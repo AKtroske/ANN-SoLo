{
 "cells": [
  {
   "cell_type": "code",
   "execution_count": 1,
   "metadata": {
    "collapsed": true
   },
   "outputs": [],
   "source": [
    "import os\n",
    "import sys\n",
    "\n",
    "src_dir = os.path.abspath('../src')\n",
    "if src_dir not in sys.path:\n",
    "    sys.path.append(src_dir)"
   ]
  },
  {
   "cell_type": "code",
   "execution_count": 2,
   "metadata": {
    "collapsed": true
   },
   "outputs": [],
   "source": [
    "%matplotlib inline\n",
    "import collections\n",
    "\n",
    "import matplotlib.pyplot as plt\n",
    "import matplotlib.ticker as mticker\n",
    "import numpy as np\n",
    "import pandas as pd\n",
    "import seaborn as sns\n",
    "import tqdm\n",
    "\n",
    "import reader\n",
    "import util"
   ]
  },
  {
   "cell_type": "code",
   "execution_count": 3,
   "metadata": {
    "collapsed": true
   },
   "outputs": [],
   "source": [
    "tqdm.tqdm = tqdm.tqdm_notebook\n",
    "\n",
    "# plot styling\n",
    "plt.style.use(['seaborn-white', 'seaborn-paper'])\n",
    "plt.rc('font', family='serif')\n",
    "sns.set_palette('Set1')"
   ]
  },
  {
   "cell_type": "code",
   "execution_count": 4,
   "metadata": {
    "collapsed": true
   },
   "outputs": [],
   "source": [
    "def extract_time_from_log(filename):\n",
    "    with open(filename, 'r') as f_in:\n",
    "        for line in f_in:\n",
    "            if 'user' in line:\n",
    "                # user time\n",
    "                usertime = line.split()[1]\n",
    "                minutes = int(usertime[:usertime.find('m')])\n",
    "                seconds = float(usertime[usertime.find('m') + 1: usertime.rfind('s')])\n",
    "                usertime = minutes * 60 + seconds\n",
    "                # sys time\n",
    "                line = next(f_in)\n",
    "                systime = line.split()[1]\n",
    "                minutes = int(systime[:systime.find('m')])\n",
    "                seconds = float(systime[systime.find('m') + 1: systime.rfind('s')])\n",
    "                systime = minutes * 60 + seconds\n",
    "                \n",
    "                return usertime + systime"
   ]
  },
  {
   "cell_type": "code",
   "execution_count": 5,
   "metadata": {
    "collapsed": true
   },
   "outputs": [],
   "source": [
    "def read_spectrast_psms(filename):\n",
    "    psms = pd.read_csv(filename, sep='\\t', header=0)\n",
    "    psms['sequence'] = psms['ID'].str.split('/').str[0]\n",
    "    psms['PSM_ID'] = psms['### Query']\n",
    "    psms['search_engine_score[1]'] = pd.to_numeric(psms['Dot'])\n",
    "    psms['charge'] = pd.to_numeric(psms['ID'].str.split('/').str[1])\n",
    "    psms['exp_mass_to_charge'] = 0\n",
    "    psms['calc_mass_to_charge'] = pd.to_numeric(psms['MzDiff'])\n",
    "    psms['opt_ms_run[1]_cv_MS:1002217_decoy_peptide'] =\\\n",
    "        psms['Proteins'].str.contains('DECOY_')\n",
    "        \n",
    "    return psms[['sequence', 'PSM_ID', 'search_engine_score[1]', 'charge',\n",
    "                 'exp_mass_to_charge', 'calc_mass_to_charge',\n",
    "                 'opt_ms_run[1]_cv_MS:1002217_decoy_peptide']]"
   ]
  },
  {
   "cell_type": "code",
   "execution_count": 6,
   "metadata": {
    "collapsed": true
   },
   "outputs": [],
   "source": [
    "max_fdr = 0.01\n",
    "tol_mass = 0.1\n",
    "tol_mode = 'Da'"
   ]
  },
  {
   "cell_type": "code",
   "execution_count": 7,
   "metadata": {
    "collapsed": true
   },
   "outputs": [],
   "source": [
    "hek293_dir = '../data/processed/hek293'"
   ]
  },
  {
   "cell_type": "code",
   "execution_count": 8,
   "metadata": {},
   "outputs": [],
   "source": [
    "filename_stats = os.path.join(hek293_dir, 'stats.txt')\n",
    "filename_summary = os.path.join(hek293_dir, 'summary.txt')\n",
    "if os.path.isfile(filename_stats) and os.path.isfile(filename_summary):\n",
    "    stats = pd.read_csv(filename_stats, sep='\\t')\n",
    "    summary = pd.read_csv(filename_summary, sep='\\t', index_col=[0, 1])\n",
    "else:\n",
    "    num_ids = []\n",
    "    runtimes = []\n",
    "    psms = collections.defaultdict(list)\n",
    "    total = 24 * 2 * 4    # 24 raw files * 2 (IDs & log) * 4 (search engine combos)\n",
    "    with tqdm.tqdm(desc='Files processed', unit='files', total=total) as pbar:\n",
    "        for search_engine in ('ann-solo', 'spectrast'):\n",
    "            for search_mode in ('oms', 'closed'):\n",
    "                for filename in os.listdir(\n",
    "                        os.path.join(hek293_dir, search_engine, search_mode)):\n",
    "                    filename_full = os.path.join(hek293_dir, search_engine,\n",
    "                                                 search_mode, filename)\n",
    "                    if filename.endswith('.log'):\n",
    "                        runtimes.append((\n",
    "                            search_engine, search_mode,\n",
    "                            os.path.splitext(filename)[0],\n",
    "                            extract_time_from_log(filename_full)))\n",
    "                        pbar.update(1)\n",
    "                    else:\n",
    "                        if filename.endswith('.mztab'):\n",
    "                            file_psms = util.filter_group_fdr(\n",
    "                                reader.read_mztab_psms(filename_full),\n",
    "                                max_fdr, tol_mass, tol_mode)\n",
    "                            pbar.update(1)\n",
    "                        elif filename.endswith('.txt'):\n",
    "                            file_psms = util.filter_group_fdr(\n",
    "                                read_spectrast_psms(filename_full),\n",
    "                                max_fdr, tol_mass, tol_mode)\n",
    "                            pbar.update(1)\n",
    "                        psms[(search_engine, search_mode)].append(file_psms)\n",
    "                        num_ids.append((search_engine, search_mode,\n",
    "                                        os.path.splitext(filename)[0],\n",
    "                                        len(file_psms)))\n",
    "\n",
    "    num_ids_df = pd.DataFrame.from_records(\n",
    "        num_ids, columns=['search_engine', 'search_mode', 'filename', 'psms'])\n",
    "    time_df = pd.DataFrame.from_records(\n",
    "        runtimes, columns=['search_engine', 'search_mode', 'filename', 'time'])\n",
    "    stats = (pd.merge(num_ids_df, time_df,\n",
    "                     on=['search_engine', 'search_mode', 'filename'])\n",
    "             .sort_values(['search_engine', 'search_mode', 'filename'])\n",
    "             .reset_index(drop=True))\n",
    "    \n",
    "    summary = (stats.groupby(['search_engine', 'search_mode'])\n",
    "               .agg({'psms': 'sum', 'time': 'mean'}))\n",
    "    summary['time'] = summary['time'] / 60\n",
    "\n",
    "    psms_df = []\n",
    "    for (search_engine, search_mode), psm_list in psms.items():\n",
    "        num_peptides = len(pd.concat(psm_list)['sequence'].unique())\n",
    "        psms_df.append((search_engine, search_mode, num_peptides))\n",
    "    psms_df = pd.DataFrame.from_records(\n",
    "        psms_df, index=['search_engine', 'search_mode'],\n",
    "        columns=['search_engine', 'search_mode', 'peptides'])\n",
    "    summary = summary.join(psms_df)\n",
    "    \n",
    "    stats.to_csv(filename_stats, sep='\\t', index=False)\n",
    "    summary.to_csv(filename_summary, sep='\\t', index=True)"
   ]
  },
  {
   "cell_type": "code",
   "execution_count": 9,
   "metadata": {},
   "outputs": [
    {
     "data": {
      "text/html": [
       "<div>\n",
       "<style>\n",
       "    .dataframe thead tr:only-child th {\n",
       "        text-align: right;\n",
       "    }\n",
       "\n",
       "    .dataframe thead th {\n",
       "        text-align: left;\n",
       "    }\n",
       "\n",
       "    .dataframe tbody tr th {\n",
       "        vertical-align: top;\n",
       "    }\n",
       "</style>\n",
       "<table border=\"1\" class=\"dataframe\">\n",
       "  <thead>\n",
       "    <tr style=\"text-align: right;\">\n",
       "      <th></th>\n",
       "      <th></th>\n",
       "      <th>psms</th>\n",
       "      <th>time</th>\n",
       "      <th>peptides</th>\n",
       "    </tr>\n",
       "    <tr>\n",
       "      <th>search_engine</th>\n",
       "      <th>search_mode</th>\n",
       "      <th></th>\n",
       "      <th></th>\n",
       "      <th></th>\n",
       "    </tr>\n",
       "  </thead>\n",
       "  <tbody>\n",
       "    <tr>\n",
       "      <th rowspan=\"2\" valign=\"top\">ann-solo</th>\n",
       "      <th>closed</th>\n",
       "      <td>353436</td>\n",
       "      <td>24.730299</td>\n",
       "      <td>113189</td>\n",
       "    </tr>\n",
       "    <tr>\n",
       "      <th>oms</th>\n",
       "      <td>711939</td>\n",
       "      <td>129.513128</td>\n",
       "      <td>189028</td>\n",
       "    </tr>\n",
       "    <tr>\n",
       "      <th rowspan=\"2\" valign=\"top\">spectrast</th>\n",
       "      <th>closed</th>\n",
       "      <td>369107</td>\n",
       "      <td>5.205294</td>\n",
       "      <td>111738</td>\n",
       "    </tr>\n",
       "    <tr>\n",
       "      <th>oms</th>\n",
       "      <td>519646</td>\n",
       "      <td>1276.663253</td>\n",
       "      <td>134905</td>\n",
       "    </tr>\n",
       "  </tbody>\n",
       "</table>\n",
       "</div>"
      ],
      "text/plain": [
       "                             psms         time  peptides\n",
       "search_engine search_mode                               \n",
       "ann-solo      closed       353436    24.730299    113189\n",
       "              oms          711939   129.513128    189028\n",
       "spectrast     closed       369107     5.205294    111738\n",
       "              oms          519646  1276.663253    134905"
      ]
     },
     "execution_count": 9,
     "metadata": {},
     "output_type": "execute_result"
    }
   ],
   "source": [
    "summary"
   ]
  }
 ],
 "metadata": {
  "kernelspec": {
   "display_name": "Python 3",
   "language": "python",
   "name": "python3"
  },
  "language_info": {
   "codemirror_mode": {
    "name": "ipython",
    "version": 3
   },
   "file_extension": ".py",
   "mimetype": "text/x-python",
   "name": "python",
   "nbconvert_exporter": "python",
   "pygments_lexer": "ipython3",
   "version": "3.6.2"
  }
 },
 "nbformat": 4,
 "nbformat_minor": 2
}
