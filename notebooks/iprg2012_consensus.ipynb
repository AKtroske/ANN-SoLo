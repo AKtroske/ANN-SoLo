{
 "cells": [
  {
   "cell_type": "markdown",
   "metadata": {},
   "source": [
    "# Comparison to iPRG2012 consensus"
   ]
  },
  {
   "cell_type": "code",
   "execution_count": 1,
   "metadata": {},
   "outputs": [],
   "source": [
    "import os\n",
    "import sys\n",
    "\n",
    "src_dir = os.path.abspath('../src')\n",
    "if src_dir not in sys.path:\n",
    "    sys.path.append(src_dir)"
   ]
  },
  {
   "cell_type": "code",
   "execution_count": 2,
   "metadata": {},
   "outputs": [],
   "source": [
    "%matplotlib inline\n",
    "import math\n",
    "\n",
    "import Levenshtein\n",
    "import matplotlib.pyplot as plt\n",
    "import numpy as np\n",
    "import pandas as pd\n",
    "import seaborn as sns\n",
    "import squarify\n",
    "from matplotlib_venn import venn2, venn2_circles\n",
    "\n",
    "from ann_solo import reader"
   ]
  },
  {
   "cell_type": "code",
   "execution_count": 3,
   "metadata": {},
   "outputs": [],
   "source": [
    "# plot styling\n",
    "plt.style.use(['seaborn-white', 'seaborn-paper'])\n",
    "plt.rc('font', family='serif')\n",
    "sns.set_palette('Set1')\n",
    "sns.set_context('paper', font_scale=1.)    # two-column figure"
   ]
  },
  {
   "cell_type": "code",
   "execution_count": 4,
   "metadata": {},
   "outputs": [],
   "source": [
    "psms_consensus = pd.read_csv(\n",
    "    '../../data/external/iprg2012/iprg2012ConsensusSpectrumIDcomparison.tsv',\n",
    "    sep='\\t', header=0, skipfooter=4, engine='python').rename(\n",
    "    columns={'bestSequence': 'sequence_consensus',\n",
    "             'Precursor_z': 'charge_consensus'})\n",
    "# get the same PSM identifiers\n",
    "psms_consensus = psms_consensus.set_index(psms_consensus['Index1_de'] - 1)\n",
    "    \n",
    "psms_annsolo = reader.read_mztab_ssms(\n",
    "    '../../data/processed/iprg2012/brute_force/bf_oms_shifted.mztab')"
   ]
  },
  {
   "cell_type": "code",
   "execution_count": 5,
   "metadata": {},
   "outputs": [],
   "source": [
    "psms_annsolo['mass_diff'] = (\n",
    "    (psms_annsolo['exp_mass_to_charge'] - psms_annsolo['calc_mass_to_charge'])\n",
    "    * psms_annsolo['charge'])\n",
    "\n",
    "psms = psms_annsolo[['sequence', 'charge', 'search_engine_score[1]', 'mass_diff']].join(\n",
    "    psms_consensus[['sequence_consensus', 'charge_consensus']], how='outer')\n",
    "\n",
    "# don't disambiguate between I and L\n",
    "for label in ['sequence', 'sequence_consensus']:\n",
    "    psms[label] = psms[label].str.replace('I', 'L')\n",
    "# remove SpectraST modification masses\n",
    "psms['sequence'] = psms['sequence'].str.replace(r'n?\\[\\d+\\]', '')"
   ]
  },
  {
   "cell_type": "code",
   "execution_count": 6,
   "metadata": {},
   "outputs": [],
   "source": [
    "def edit_distance(seq1, seq2, normed=False):\n",
    "    if not pd.isnull(seq1) and not pd.isnull(seq2):\n",
    "        dist = Levenshtein.distance(seq1, seq2)\n",
    "        if normed:\n",
    "            dist /= max(len(seq1), len(seq2))\n",
    "        return dist\n",
    "    else:\n",
    "        return math.inf\n",
    "\n",
    "psms['edit_dist'] = psms.apply(\n",
    "    lambda psm: edit_distance(psm['sequence'], psm['sequence_consensus']),\n",
    "    axis=1)\n",
    "psms['edit_dist_norm'] = psms.apply(\n",
    "    lambda psm: edit_distance(psm['sequence'], psm['sequence_consensus'], True),\n",
    "    axis=1)"
   ]
  },
  {
   "cell_type": "code",
   "execution_count": 7,
   "metadata": {},
   "outputs": [],
   "source": [
    "# get unique keys for spectrum ID - peptide assignment combinations\n",
    "set_consensus = set(psms.loc[\n",
    "    psms['sequence_consensus'].notnull(), 'sequence_consensus'].items())\n",
    "set_annsolo = set(psms.loc[psms['sequence'].notnull(), 'sequence'].items())"
   ]
  },
  {
   "cell_type": "code",
   "execution_count": 8,
   "metadata": {},
   "outputs": [
    {
     "data": {
      "image/png": "[encoded data removed]",
      "text/plain": [
       "<Figure size 504x311.496 with 1 Axes>"
      ]
     },
     "metadata": {},
     "output_type": "display_data"
    }
   ],
   "source": [
    "width = 7\n",
    "height = width / 1.618    # golden ratio\n",
    "fig, ax = plt.subplots(figsize=(width, height))\n",
    "\n",
    "v = venn2([set_annsolo, set_consensus],\n",
    "          set_labels=['ANN-SoLo', 'iPRG2012 consensus'],\n",
    "          set_colors=[next(ax._get_lines.prop_cycler)['color'],\n",
    "                      next(ax._get_lines.prop_cycler)['color']],\n",
    "          alpha=1., ax=ax)\n",
    "c = venn2_circles([set_annsolo, set_consensus], linewidth=1.0, ax=ax)\n",
    "\n",
    "# plt.savefig('iprg2012_consensus_venn.pdf', dpi=300, bbox_inches='tight')\n",
    "plt.show()\n",
    "plt.close()"
   ]
  },
  {
   "cell_type": "code",
   "execution_count": 9,
   "metadata": {},
   "outputs": [],
   "source": [
    "psms_match = psms[psms['sequence_consensus'].notnull() &\n",
    "                  psms['sequence'].notnull() &\n",
    "                  (psms['sequence_consensus'] == psms['sequence'])]\n",
    "psms_different = psms[psms['sequence_consensus'].notnull() &\n",
    "                      psms['sequence'].notnull() &\n",
    "                      (psms['sequence_consensus'] != psms['sequence'])]\n",
    "psms_unique_consensus = (psms[psms['sequence_consensus'].notnull()]\n",
    "                         .drop(psms_match.index, errors='ignore')\n",
    "                         .drop(psms_different.index, errors='ignore'))\n",
    "psms_unique_annsolo = (psms[psms['sequence'].notnull()]\n",
    "                       .drop(psms_match.index, errors='ignore')\n",
    "                       .drop(psms_different.index, errors='ignore'))"
   ]
  },
  {
   "cell_type": "code",
   "execution_count": 10,
   "metadata": {},
   "outputs": [
    {
     "name": "stdout",
     "output_type": "stream",
     "text": [
      "# identical PSMs: 4185\n",
      "# conflicting PSMs: 742\n",
      "# unique PSMs ANN-SoLo: 1084\n",
      "# unique PSMs iPRG2012 consensus: 2913\n"
     ]
    }
   ],
   "source": [
    "print(f'# identical PSMs: {len(psms_match)}\\n'\n",
    "      f'# conflicting PSMs: {len(psms_different)}\\n'\n",
    "      f'# unique PSMs ANN-SoLo: {len(psms_unique_annsolo)}\\n'\n",
    "      f'# unique PSMs iPRG2012 consensus: {len(psms_unique_consensus)}')"
   ]
  },
  {
   "cell_type": "code",
   "execution_count": 11,
   "metadata": {},
   "outputs": [
    {
     "data": {
      "image/png": "[encoded data removed]",
      "text/plain": [
       "<Figure size 504x311.496 with 1 Axes>"
      ]
     },
     "metadata": {},
     "output_type": "display_data"
    }
   ],
   "source": [
    "width = 7\n",
    "height = width / 1.618    # golden ratio\n",
    "fig, ax = plt.subplots(figsize=(width, height))\n",
    "\n",
    "# ax.hist(psms_different['edit_dist_norm'], bins=np.arange(0, 1.05, 0.05))\n",
    "ax.hist(psms_different['edit_dist'], bins=np.arange(0, 25, 1))\n",
    "\n",
    "ax.set_xlabel('Edit distance')\n",
    "ax.set_ylabel('Number of conflicting SSMs')\n",
    "\n",
    "sns.despine()\n",
    "\n",
    "plt.savefig('iprg2012_consensus_distance.pdf', dpi=300, bbox_inches='tight')\n",
    "plt.show()\n",
    "plt.close()"
   ]
  },
  {
   "cell_type": "code",
   "execution_count": 12,
   "metadata": {},
   "outputs": [
    {
     "name": "stdout",
     "output_type": "stream",
     "text": [
      "# conflicting PSMs with high sequence similarity: 275\n",
      "# conflicting PSMs with low sequence similarity: 467\n",
      "    (sequence similarity threshold = 3 amino acids)\n"
     ]
    }
   ],
   "source": [
    "threshold_different = 3\n",
    "num_high_sim = len(psms_different[psms_different['edit_dist'] <= threshold_different])\n",
    "num_low_sim = len(psms_different[psms_different['edit_dist'] > threshold_different])\n",
    "print(f'# conflicting PSMs with high sequence similarity: {num_high_sim}\\n'\n",
    "      f'# conflicting PSMs with low sequence similarity: {num_low_sim}\\n'\n",
    "      f'    (sequence similarity threshold = {threshold_different} amino acids)')"
   ]
  },
  {
   "cell_type": "code",
   "execution_count": 13,
   "metadata": {},
   "outputs": [
    {
     "data": {
      "image/png": "[encoded data removed]",
      "text/plain": [
       "<Figure size 504x311.496 with 1 Axes>"
      ]
     },
     "metadata": {},
     "output_type": "display_data"
    }
   ],
   "source": [
    "width = 7\n",
    "height = width / 1.618    # golden ratio\n",
    "fig, ax = plt.subplots(figsize=(width, height))\n",
    "\n",
    "squares = {'identical': len(psms_match),\n",
    "           'conflicting\\nsimilar': num_high_sim,\n",
    "           'conflicting\\ndifferent': num_low_sim,\n",
    "           'unique ANN-SoLo': len(psms_unique_annsolo),\n",
    "           'unique iPRG2012 consensus': len(psms_unique_consensus)}\n",
    "squares = {f'{key}\\n({value} SSMs)': value\n",
    "           for (key, value) in squares.items()}\n",
    "\n",
    "colors = sns.color_palette('Set1', len(squares))\n",
    "\n",
    "squarify.plot(sizes=squares.values(), color=colors, label=squares.keys(),\n",
    "              ax=ax, alpha=0.8, linewidth=1, edgecolor='black')\n",
    "\n",
    "ax.set_xticks([])\n",
    "ax.set_yticks([])\n",
    "\n",
    "plt.savefig('iprg2012_consensus_treemap.pdf', dpi=300, bbox_inches='tight')\n",
    "plt.show()\n",
    "plt.close()"
   ]
  },
  {
   "cell_type": "code",
   "execution_count": 14,
   "metadata": {},
   "outputs": [],
   "source": [
    "peptides_library = set()\n",
    "filename_pepidx = '../../data/interim/iprg2012/human_yeast_targetdecoy.pepidx'\n",
    "with open(filename_pepidx) as f_in:\n",
    "    for line in f_in:\n",
    "        if not line.startswith('#'):\n",
    "            peptide, info, _ = line.split()\n",
    "            charge = info.split('|')[0]\n",
    "            peptides_library.add((peptide, float(charge)))"
   ]
  },
  {
   "cell_type": "code",
   "execution_count": 15,
   "metadata": {},
   "outputs": [
    {
     "name": "stdout",
     "output_type": "stream",
     "text": [
      "# conflicting iPRG consensus identification ions not found IN library: 58 (85 spectra)\n",
      "# conflicting iPRG consensus identification ions not found NOT IN library: 466 (657 spectra)\n",
      "\n"
     ]
    }
   ],
   "source": [
    "psms_notfound = psms_different  # pd.concat([psms_different, psms_unique_consensus])\n",
    "peptides_notfound = set(zip(psms_notfound['sequence_consensus'],\n",
    "                            psms_notfound['charge_consensus']))\n",
    "peptides_notfound_library = peptides_notfound & peptides_library\n",
    "ions_consensus = psms['sequence_consensus'] + psms['charge_consensus'].map(str)\n",
    "psms_notfound_library = (psms[ions_consensus.isin(\n",
    "    [f'{seq}{charge}' for seq, charge in peptides_notfound_library])]\n",
    "                         .merge(psms_notfound))\n",
    "peptides_notfound_notlibrary = peptides_notfound - peptides_library\n",
    "psms_notfound_notlibrary = (psms[ions_consensus.isin(\n",
    "    [f'{seq}{charge}' for seq, charge in peptides_notfound_notlibrary])]\n",
    "                            .merge(psms_notfound))\n",
    "print(f'# conflicting iPRG consensus identification ions not found IN library: '\n",
    "      f'{len(peptides_notfound_library)} '\n",
    "      f'({len(psms_notfound_library)} spectra)\\n'\n",
    "      f'# conflicting iPRG consensus identification ions not found NOT IN library: '\n",
    "      f'{len(peptides_notfound_notlibrary)} '\n",
    "      f'({len(psms_notfound_notlibrary)} spectra)\\n')"
   ]
  }
 ],
 "metadata": {
  "kernelspec": {
   "display_name": "Python 3",
   "language": "python",
   "name": "python3"
  },
  "language_info": {
   "codemirror_mode": {
    "name": "ipython",
    "version": 3
   },
   "file_extension": ".py",
   "mimetype": "text/x-python",
   "name": "python",
   "nbconvert_exporter": "python",
   "pygments_lexer": "ipython3",
   "version": "3.6.8"
  }
 },
 "nbformat": 4,
 "nbformat_minor": 2
}
