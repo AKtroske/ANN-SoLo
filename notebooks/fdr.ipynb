{
 "cells": [
  {
   "cell_type": "code",
   "execution_count": 1,
   "metadata": {
    "collapsed": true
   },
   "outputs": [],
   "source": [
    "import os\n",
    "import sys\n",
    "\n",
    "src_dir = os.path.abspath('../src')\n",
    "if src_dir not in sys.path:\n",
    "    sys.path.append(src_dir)"
   ]
  },
  {
   "cell_type": "code",
   "execution_count": 2,
   "metadata": {
    "collapsed": true
   },
   "outputs": [],
   "source": [
    "%matplotlib inline\n",
    "import matplotlib.pyplot as plt\n",
    "import matplotlib.ticker as mticker\n",
    "import numpy as np\n",
    "import seaborn as sns\n",
    "\n",
    "import reader\n",
    "import util"
   ]
  },
  {
   "cell_type": "code",
   "execution_count": 3,
   "metadata": {},
   "outputs": [],
   "source": [
    "# plot styling\n",
    "plt.style.use(['seaborn-white', 'seaborn-paper'])\n",
    "plt.rc('font', family='serif')\n",
    "sns.set_palette('Set1')"
   ]
  },
  {
   "cell_type": "code",
   "execution_count": 4,
   "metadata": {},
   "outputs": [
    {
     "name": "stderr",
     "output_type": "stream",
     "text": [
      "/Users/Wout/.conda/envs/ann-solo/lib/python3.6/site-packages/pyteomics/auxiliary.py:661: RuntimeWarning: divide by zero encountered in true_divide\n",
      "  q = tfalse / (ind - cumsum) / ratio\n"
     ]
    }
   ],
   "source": [
    "fdr = 0.01\n",
    "tol_mass = 0.1\n",
    "tol_mode = 'Da'\n",
    "\n",
    "psms_dir = '../data/processed/iprg2012/brute_force'\n",
    "psms_closed = util.filter_fdr(\n",
    "    reader.read_mztab_psms(os.path.join(psms_dir, 'bf_closed.mztab')),\n",
    "    fdr)\n",
    "psms_oms = util.filter_group_fdr(\n",
    "    reader.read_mztab_psms(os.path.join(psms_dir, 'bf_oms.mztab')),\n",
    "    fdr, tol_mass, tol_mode)\n",
    "psms_oms_shifted = util.filter_group_fdr(\n",
    "    reader.read_mztab_psms(os.path.join(psms_dir, 'bf_oms_shifted.mztab')),\n",
    "    fdr, tol_mass, tol_mode)"
   ]
  },
  {
   "cell_type": "code",
   "execution_count": 5,
   "metadata": {
    "collapsed": true
   },
   "outputs": [],
   "source": [
    "psms = [('20 ppm', psms_closed),\n",
    "        ('300 Da (dot)', psms_oms),\n",
    "        ('300 Da (shifted dot)', psms_oms_shifted)]"
   ]
  },
  {
   "cell_type": "code",
   "execution_count": 6,
   "metadata": {},
   "outputs": [
    {
     "data": {
      "image/png": "[encoded data removed]",
      "text/plain": [
       "<Figure size 504x311.496 with 1 Axes>"
      ]
     },
     "metadata": {},
     "output_type": "display_data"
    }
   ],
   "source": [
    "width = 7\n",
    "height = width / 1.618    # golden ratio\n",
    "fig, ax = plt.subplots(figsize=(width, height))\n",
    "\n",
    "for label, psm in psms:\n",
    "    ax.plot(np.append(psm['q'], fdr) * 100, range(len(psm) + 1), label=label)\n",
    "\n",
    "ax.set_xlabel('FDR')\n",
    "ax.set_ylabel('Number of SSMs')\n",
    "\n",
    "ax.xaxis.set_major_formatter(mticker.PercentFormatter())\n",
    "\n",
    "ax.legend(loc='lower right', title='Search settings')\n",
    "\n",
    "sns.despine()\n",
    "\n",
    "plt.savefig('fdr.pdf', dpi=300, bbox_inches='tight')\n",
    "plt.show()\n",
    "plt.close()"
   ]
  }
 ],
 "metadata": {
  "kernelspec": {
   "display_name": "Python 3",
   "language": "python",
   "name": "python3"
  },
  "language_info": {
   "codemirror_mode": {
    "name": "ipython",
    "version": 3
   },
   "file_extension": ".py",
   "mimetype": "text/x-python",
   "name": "python",
   "nbconvert_exporter": "python",
   "pygments_lexer": "ipython3",
   "version": "3.6.2"
  }
 },
 "nbformat": 4,
 "nbformat_minor": 2
}
