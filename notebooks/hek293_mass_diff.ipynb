{
 "cells": [
  {
   "cell_type": "markdown",
   "metadata": {},
   "source": [
    "# Precursor mass differences"
   ]
  },
  {
   "cell_type": "code",
   "execution_count": 1,
   "metadata": {
    "collapsed": true
   },
   "outputs": [],
   "source": [
    "import os\n",
    "import sys\n",
    "\n",
    "src_dir = os.path.abspath('../src')\n",
    "if src_dir not in sys.path:\n",
    "    sys.path.append(src_dir)"
   ]
  },
  {
   "cell_type": "code",
   "execution_count": 2,
   "metadata": {
    "collapsed": true
   },
   "outputs": [],
   "source": [
    "import collections\n",
    "\n",
    "%matplotlib inline\n",
    "import matplotlib.pyplot as plt\n",
    "import matplotlib.ticker as mticker\n",
    "import pandas as pd\n",
    "import seaborn as sns\n",
    "import tqdm\n",
    "\n",
    "from ann_solo import reader"
   ]
  },
  {
   "cell_type": "code",
   "execution_count": 3,
   "metadata": {
    "collapsed": true
   },
   "outputs": [],
   "source": [
    "tqdm.tqdm = tqdm.tqdm_notebook\n",
    "\n",
    "# plot styling\n",
    "plt.style.use(['seaborn-white', 'seaborn-paper'])\n",
    "plt.rc('font', family='serif')\n",
    "sns.set_palette('Set1')"
   ]
  },
  {
   "cell_type": "code",
   "execution_count": 4,
   "metadata": {
    "collapsed": true
   },
   "outputs": [],
   "source": [
    "psms_dir = '../data/processed/hek293/ann-solo/oms'"
   ]
  },
  {
   "cell_type": "code",
   "execution_count": 5,
   "metadata": {},
   "outputs": [
    {
     "data": {
      "application/vnd.jupyter.widget-view+json": {
       "model_id": "4751add93b6a4976be572a3631700bea",
       "version_major": 2,
       "version_minor": 0
      },
      "text/html": [
       "<p>Failed to display Jupyter Widget of type <code>HBox</code>.</p>\n",
       "<p>\n",
       "  If you're reading this message in the Jupyter Notebook or JupyterLab Notebook, it may mean\n",
       "  that the widgets JavaScript is still loading. If this message persists, it\n",
       "  likely means that the widgets JavaScript library is either not installed or\n",
       "  not enabled. See the <a href=\"https://ipywidgets.readthedocs.io/en/stable/user_install.html\">Jupyter\n",
       "  Widgets Documentation</a> for setup instructions.\n",
       "</p>\n",
       "<p>\n",
       "  If you're reading this message in another frontend (for example, a static\n",
       "  rendering on GitHub or <a href=\"https://nbviewer.jupyter.org/\">NBViewer</a>),\n",
       "  it may mean that your frontend doesn't currently support widgets.\n",
       "</p>\n"
      ],
      "text/plain": [
       "HBox(children=(IntProgress(value=0, description='Files processed: ', max=49), HTML(value='')))"
      ]
     },
     "metadata": {},
     "output_type": "display_data"
    },
    {
     "name": "stdout",
     "output_type": "stream",
     "text": [
      "\n"
     ]
    }
   ],
   "source": [
    "psms = []\n",
    "for filename in tqdm.tqdm(os.listdir(os.path.join(psms_dir)),\n",
    "                          'Files processed', unit='files'):\n",
    "    if filename.endswith('.mztab'):\n",
    "        psms.append(reader.read_mztab_psms(os.path.join(psms_dir, filename)))\n",
    "\n",
    "psms = pd.concat(psms)"
   ]
  },
  {
   "cell_type": "code",
   "execution_count": 6,
   "metadata": {
    "collapsed": true
   },
   "outputs": [],
   "source": [
    "psms['mass_diff'] = (\n",
    "    (psms['exp_mass_to_charge'] - psms['calc_mass_to_charge']) * psms['charge']\n",
    ")"
   ]
  },
  {
   "cell_type": "code",
   "execution_count": 7,
   "metadata": {
    "collapsed": true
   },
   "outputs": [],
   "source": [
    "tol_mass = 0.1\n",
    "tol_mode = 'Da'"
   ]
  },
  {
   "cell_type": "code",
   "execution_count": 8,
   "metadata": {},
   "outputs": [],
   "source": [
    "# start with the highest ranked PSM\n",
    "mass_groups = []\n",
    "psms_remaining = psms\n",
    "while len(psms_remaining) > 0:\n",
    "    # find all remaining PSMs within the precursor mass window\n",
    "    mass_diff = psms_remaining['mass_diff'].iloc[0]\n",
    "    if tol_mass is None or tol_mode not in ('Da', 'ppm'):\n",
    "        psms_selected = psms_remaining\n",
    "    elif tol_mode == 'Da':\n",
    "        psms_selected = \\\n",
    "            psms_remaining[(psms_remaining['mass_diff'] - mass_diff).abs()\n",
    "                           <= tol_mass]\n",
    "    elif tol_mode == 'ppm':\n",
    "        psms_selected = \\\n",
    "            psms_remaining[(psms_remaining['mass_diff'] - mass_diff).abs()\n",
    "                           / psms_remaining['exp_mass_to_charge'] * 10 ** 6\n",
    "                           <= tol_mass]\n",
    "    mass_groups.append(psms_selected)\n",
    "    # exclude the selected PSMs from further selections\n",
    "    psms_remaining.drop(psms_selected.index, inplace=True)\n",
    "\n",
    "mass_group_stats = []\n",
    "for mass_group in mass_groups:\n",
    "    mass_group_stats.append((mass_group['mass_diff'].median(),\n",
    "                             mass_group['mass_diff'].mean(),\n",
    "                             len(mass_group)))\n",
    "mass_group_stats = pd.DataFrame.from_records(\n",
    "    mass_group_stats, columns=['mass_diff_median', 'mass_diff_mean', 'num_psms'])"
   ]
  },
  {
   "cell_type": "code",
   "execution_count": 9,
   "metadata": {},
   "outputs": [
    {
     "data": {
      "text/html": [
       "<div>\n",
       "<style>\n",
       "    .dataframe thead tr:only-child th {\n",
       "        text-align: right;\n",
       "    }\n",
       "\n",
       "    .dataframe thead th {\n",
       "        text-align: left;\n",
       "    }\n",
       "\n",
       "    .dataframe tbody tr th {\n",
       "        vertical-align: top;\n",
       "    }\n",
       "</style>\n",
       "<table border=\"1\" class=\"dataframe\">\n",
       "  <thead>\n",
       "    <tr style=\"text-align: right;\">\n",
       "      <th></th>\n",
       "      <th>mass_diff_median</th>\n",
       "      <th>mass_diff_mean</th>\n",
       "      <th>num_psms</th>\n",
       "    </tr>\n",
       "  </thead>\n",
       "  <tbody>\n",
       "    <tr>\n",
       "      <th>1</th>\n",
       "      <td>0.002580</td>\n",
       "      <td>0.002525</td>\n",
       "      <td>369341</td>\n",
       "    </tr>\n",
       "    <tr>\n",
       "      <th>3</th>\n",
       "      <td>1.005409</td>\n",
       "      <td>1.000509</td>\n",
       "      <td>46659</td>\n",
       "    </tr>\n",
       "    <tr>\n",
       "      <th>10</th>\n",
       "      <td>15.997952</td>\n",
       "      <td>15.998286</td>\n",
       "      <td>31473</td>\n",
       "    </tr>\n",
       "    <tr>\n",
       "      <th>33</th>\n",
       "      <td>2.006034</td>\n",
       "      <td>1.996613</td>\n",
       "      <td>14088</td>\n",
       "    </tr>\n",
       "    <tr>\n",
       "      <th>47</th>\n",
       "      <td>-0.991490</td>\n",
       "      <td>-0.989924</td>\n",
       "      <td>6418</td>\n",
       "    </tr>\n",
       "    <tr>\n",
       "      <th>42</th>\n",
       "      <td>-17.023168</td>\n",
       "      <td>-17.020997</td>\n",
       "      <td>5777</td>\n",
       "    </tr>\n",
       "    <tr>\n",
       "      <th>153</th>\n",
       "      <td>17.002129</td>\n",
       "      <td>17.007212</td>\n",
       "      <td>5433</td>\n",
       "    </tr>\n",
       "    <tr>\n",
       "      <th>61</th>\n",
       "      <td>183.038634</td>\n",
       "      <td>183.038338</td>\n",
       "      <td>4815</td>\n",
       "    </tr>\n",
       "    <tr>\n",
       "      <th>15</th>\n",
       "      <td>27.998370</td>\n",
       "      <td>28.002045</td>\n",
       "      <td>4777</td>\n",
       "    </tr>\n",
       "    <tr>\n",
       "      <th>233</th>\n",
       "      <td>301.990756</td>\n",
       "      <td>301.992218</td>\n",
       "      <td>3266</td>\n",
       "    </tr>\n",
       "  </tbody>\n",
       "</table>\n",
       "</div>"
      ],
      "text/plain": [
       "     mass_diff_median  mass_diff_mean  num_psms\n",
       "1            0.002580        0.002525    369341\n",
       "3            1.005409        1.000509     46659\n",
       "10          15.997952       15.998286     31473\n",
       "33           2.006034        1.996613     14088\n",
       "47          -0.991490       -0.989924      6418\n",
       "42         -17.023168      -17.020997      5777\n",
       "153         17.002129       17.007212      5433\n",
       "61         183.038634      183.038338      4815\n",
       "15          27.998370       28.002045      4777\n",
       "233        301.990756      301.992218      3266"
      ]
     },
     "execution_count": 9,
     "metadata": {},
     "output_type": "execute_result"
    }
   ],
   "source": [
    "mass_group_stats.sort_values('num_psms', ascending=False).head(10)"
   ]
  },
  {
   "cell_type": "code",
   "execution_count": 10,
   "metadata": {},
   "outputs": [
    {
     "data": {
      "image/png": "[encoded data removed]",
      "text/plain": [
       "<matplotlib.figure.Figure at 0x130ce4320>"
      ]
     },
     "metadata": {},
     "output_type": "display_data"
    }
   ],
   "source": [
    "width = 7\n",
    "height = width / 1.618 / 2\n",
    "fig, ax = plt.subplots(figsize=(width, height))\n",
    "\n",
    "mask = mass_group_stats['mass_diff_median'].abs() > tol_mass   # exclude unmodified PSMs\n",
    "ax.bar(mass_group_stats[mask]['mass_diff_median'],\n",
    "       mass_group_stats[mask]['num_psms'],\n",
    "       width=1, log=False, color='black')\n",
    "\n",
    "ax.set_xlabel('Precursor mass difference (Da)')\n",
    "fdr = 0.01    # specified in the search settings\n",
    "ax.set_ylabel('Number of SSMs\\n(FDR={})'.format(fdr))\n",
    "\n",
    "ax.set_xlim((-500, 500))\n",
    "\n",
    "# set tick labels at nice positions\n",
    "ax.xaxis.set_major_locator(mticker.MultipleLocator(100))\n",
    "# format y-axis numbers\n",
    "ax.yaxis.set_major_formatter(mticker.StrMethodFormatter('{x:,g}'))\n",
    "\n",
    "sns.despine()\n",
    "\n",
    "plt.savefig('mass_diff.pdf', dpi=300, bbox_inches='tight')\n",
    "plt.show()\n",
    "plt.close()"
   ]
  }
 ],
 "metadata": {
  "kernelspec": {
   "display_name": "Python 3",
   "language": "python",
   "name": "python3"
  },
  "language_info": {
   "codemirror_mode": {
    "name": "ipython",
    "version": 3
   },
   "file_extension": ".py",
   "mimetype": "text/x-python",
   "name": "python",
   "nbconvert_exporter": "python",
   "pygments_lexer": "ipython3",
   "version": "3.6.2"
  }
 },
 "nbformat": 4,
 "nbformat_minor": 2
}
