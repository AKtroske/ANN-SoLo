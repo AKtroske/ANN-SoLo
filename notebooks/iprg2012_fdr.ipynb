{
 "cells": [
  {
   "cell_type": "markdown",
   "metadata": {},
   "source": [
    "# Number of SSMs for direct searches"
   ]
  },
  {
   "cell_type": "code",
   "execution_count": 1,
   "metadata": {
    "collapsed": true
   },
   "outputs": [],
   "source": [
    "import os\n",
    "import sys\n",
    "\n",
    "src_dir = os.path.abspath('../src')\n",
    "if src_dir not in sys.path:\n",
    "    sys.path.append(src_dir)"
   ]
  },
  {
   "cell_type": "code",
   "execution_count": 2,
   "metadata": {
    "collapsed": true
   },
   "outputs": [],
   "source": [
    "import pandas as pd\n",
    "\n",
    "from ann_solo import reader"
   ]
  },
  {
   "cell_type": "code",
   "execution_count": 3,
   "metadata": {},
   "outputs": [
    {
     "data": {
      "text/html": [
       "<div>\n",
       "<style>\n",
       "    .dataframe thead tr:only-child th {\n",
       "        text-align: right;\n",
       "    }\n",
       "\n",
       "    .dataframe thead th {\n",
       "        text-align: left;\n",
       "    }\n",
       "\n",
       "    .dataframe tbody tr th {\n",
       "        vertical-align: top;\n",
       "    }\n",
       "</style>\n",
       "<table border=\"1\" class=\"dataframe\">\n",
       "  <thead>\n",
       "    <tr style=\"text-align: right;\">\n",
       "      <th></th>\n",
       "      <th>number of SSMs</th>\n",
       "      <th>search mode</th>\n",
       "    </tr>\n",
       "  </thead>\n",
       "  <tbody>\n",
       "    <tr>\n",
       "      <th>0</th>\n",
       "      <td>4141</td>\n",
       "      <td>20 ppm</td>\n",
       "    </tr>\n",
       "    <tr>\n",
       "      <th>1</th>\n",
       "      <td>5160</td>\n",
       "      <td>300 Da (cascade, dot)</td>\n",
       "    </tr>\n",
       "    <tr>\n",
       "      <th>2</th>\n",
       "      <td>6019</td>\n",
       "      <td>300 Da (cascade, shifted dot)</td>\n",
       "    </tr>\n",
       "    <tr>\n",
       "      <th>3</th>\n",
       "      <td>3846</td>\n",
       "      <td>300 Da (no cascade, dot)</td>\n",
       "    </tr>\n",
       "    <tr>\n",
       "      <th>4</th>\n",
       "      <td>4944</td>\n",
       "      <td>300 Da (no cascade, shifted dot)</td>\n",
       "    </tr>\n",
       "  </tbody>\n",
       "</table>\n",
       "</div>"
      ],
      "text/plain": [
       "   number of SSMs                       search mode\n",
       "0            4141                            20 ppm\n",
       "1            5160             300 Da (cascade, dot)\n",
       "2            6019     300 Da (cascade, shifted dot)\n",
       "3            3846          300 Da (no cascade, dot)\n",
       "4            4944  300 Da (no cascade, shifted dot)"
      ]
     },
     "execution_count": 3,
     "metadata": {},
     "output_type": "execute_result"
    }
   ],
   "source": [
    "psms_dir = '../data/processed/iprg2012/brute_force'\n",
    "\n",
    "psms_std = reader.read_mztab_psms(os.path.join(psms_dir, 'bf_std.mztab'))\n",
    "psms_oms = reader.read_mztab_psms(os.path.join(psms_dir, 'bf_oms.mztab'))\n",
    "psms_oms_shifted = reader.read_mztab_psms(os.path.join(\n",
    "    psms_dir, 'bf_oms_shifted.mztab'))\n",
    "psms_oms_nocascade = reader.read_mztab_psms(os.path.join(\n",
    "    psms_dir, 'bf_oms_nocascade.mztab'))\n",
    "psms_oms_nocascade_shifted = reader.read_mztab_psms(os.path.join(\n",
    "    psms_dir, 'bf_oms_nocascade_shifted.mztab'))\n",
    "\n",
    "num_psms = pd.DataFrame(\n",
    "    {'search mode': ['20 ppm', '300 Da (cascade, dot)',\n",
    "                     '300 Da (cascade, shifted dot)',\n",
    "                     '300 Da (no cascade, dot)',\n",
    "                     '300 Da (no cascade, shifted dot)'],\n",
    "    'number of SSMs': [len(psms_std), len(psms_oms), len(psms_oms_shifted),\n",
    "                       len(psms_oms_nocascade), len(psms_oms_nocascade_shifted)]})\n",
    "\n",
    "num_psms"
   ]
  }
 ],
 "metadata": {
  "kernelspec": {
   "display_name": "Python 3",
   "language": "python",
   "name": "python3"
  },
  "language_info": {
   "codemirror_mode": {
    "name": "ipython",
    "version": 3
   },
   "file_extension": ".py",
   "mimetype": "text/x-python",
   "name": "python",
   "nbconvert_exporter": "python",
   "pygments_lexer": "ipython3",
   "version": "3.6.2"
  }
 },
 "nbformat": 4,
 "nbformat_minor": 2
}
