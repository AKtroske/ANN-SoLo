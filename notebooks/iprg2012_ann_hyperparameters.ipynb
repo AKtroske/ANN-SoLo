{
 "cells": [
  {
   "cell_type": "markdown",
   "metadata": {},
   "source": [
    "# ANN hyperparameter evaluation"
   ]
  },
  {
   "cell_type": "code",
   "execution_count": 1,
   "metadata": {},
   "outputs": [],
   "source": [
    "import os\n",
    "import sys\n",
    "\n",
    "src_dir = os.path.abspath('../src')\n",
    "if src_dir not in sys.path:\n",
    "    sys.path.append(src_dir)"
   ]
  },
  {
   "cell_type": "code",
   "execution_count": 2,
   "metadata": {},
   "outputs": [],
   "source": [
    "%matplotlib inline\n",
    "\n",
    "import itertools\n",
    "import logging\n",
    "import multiprocessing\n",
    "import re\n",
    "\n",
    "import matplotlib.pyplot as plt\n",
    "import matplotlib.ticker as mticker\n",
    "import numpy as np\n",
    "import pandas as pd\n",
    "import seaborn as sns\n",
    "import tqdm\n",
    "\n",
    "from ann_solo import reader, spectral_library\n",
    "from ann_solo.config import config"
   ]
  },
  {
   "cell_type": "code",
   "execution_count": 3,
   "metadata": {},
   "outputs": [],
   "source": [
    "tqdm.tqdm = tqdm.tqdm_notebook\n",
    "\n",
    "# plot styling\n",
    "plt.style.use(['seaborn-white', 'seaborn-paper'])\n",
    "plt.rc('font', family='serif')\n",
    "sns.set_palette('Set1')\n",
    "sns.set_context('paper', font_scale=1.3)    # single-column figure\n",
    "\n",
    "# initialize logging\n",
    "logging.basicConfig(format='%(asctime)s [%(levelname)s/%(processName)s] '\n",
    "                           '%(module)s.%(funcName)s : %(message)s',\n",
    "                    level=logging.INFO)"
   ]
  },
  {
   "cell_type": "code",
   "execution_count": 4,
   "metadata": {},
   "outputs": [],
   "source": [
    "config_filename = '../../bin/ann-solo/iprg2012.ini'\n",
    "splib_filename = '../../data/interim/iprg2012/human_yeast_targetdecoy.splib'\n",
    "mgf_filename = '../../data/external/iprg2012/iPRG2012.mgf'\n",
    "hp_dir = '../../data/processed/iprg2012/ann_hyperparameters'\n",
    "build_dir = '../../data/processed/iprg2012/build_ann'"
   ]
  },
  {
   "cell_type": "markdown",
   "metadata": {},
   "source": [
    "We consider the following hyperparameters for approximate nearest neighbor (ANN) searching:\n",
    "\n",
    "- The number of lists in the ANN index (`num_list`).\n",
    "- The number of lists in the ANN index to inspect during the search (`num_probe`).\n",
    "\n",
    "Both of these hyperparameters provide a trade-off between speed and accuracy, either at build time or at run time.\n",
    "\n",
    "For more information about the hyperparameters, please see the [Faiss](https://github.com/facebookresearch/faiss) library.\n",
    "\n",
    "For each combination of hyperparameters the trade-off between search speed (total time required) and accuracy (number of PSMs at 1% FDR) is evaluated.\n",
    "The number of identifications for a closed search (precursor mass = 20 ppm) and a traditional, brute-force, open modification search are indicated as a reference.\n",
    "\n",
    "Search settings:\n",
    "\n",
    "- Query file: spectra generated for the [iPRG 2012 study](http://www.mcponline.org/cgi/doi/10.1074/mcp.M113.032813).\n",
    "- Precursor mass tolerance: 300 Da\n",
    "- Fragment mass tolerance: 0.02 Da"
   ]
  },
  {
   "cell_type": "code",
   "execution_count": 5,
   "metadata": {},
   "outputs": [],
   "source": [
    "def _do_search(settings):\n",
    "    config.parse(settings)\n",
    "\n",
    "    spec_lib = spectral_library.SpectralLibrary(\n",
    "        config.spectral_library_filename)\n",
    "    identifications = spec_lib.search(config.query_filename)\n",
    "    writer.write_mztab(identifications, config.out_filename,\n",
    "                       spec_lib._library_reader)\n",
    "    spec_lib.shutdown()\n",
    "\n",
    "# Go through all ANN hyperparameter combinations.\n",
    "num_list_options = [64, 256, 1024, 4096, 16384]\n",
    "num_probe_options = [1, 8, 32, 64, 128, 256, 512, 1024]\n",
    "for num_list, num_probe in itertools.product(num_list_options,\n",
    "                                             num_probe_options):\n",
    "    if num_list > num_probe:\n",
    "        out_filename = os.path.join(\n",
    "            hp_dir, f'num_list_{num_list}-num_probe_{num_probe}.mztab')\n",
    "        if not os.path.isfile(out_filename):\n",
    "            settings = [f'--config {config_filename}',\n",
    "                        '--precursor_tolerance_mass_open 300',\n",
    "                        '--precursor_tolerance_mode_open Da',\n",
    "                        '--mode ann',\n",
    "                        f'--num_list {num_list}',\n",
    "                        f'--num_probe {num_probe}',\n",
    "                        splib_filename, mgf_filename, out_filename]\n",
    "\n",
    "            proc = multiprocessing.Process(target=_do_search,\n",
    "                                           args=(' '.join(settings),))\n",
    "            proc.start()\n",
    "            proc.join()"
   ]
  },
  {
   "cell_type": "code",
   "execution_count": 6,
   "metadata": {},
   "outputs": [],
   "source": [
    "def extract_time_from_log(filename):\n",
    "    with open(filename, 'r') as f_in:\n",
    "        for line in f_in:\n",
    "            if line.startswith('real'):\n",
    "                # Wall clock time.\n",
    "                realtime = line.split()[1]\n",
    "                minutes = int(realtime[:realtime.find('m')])\n",
    "                seconds = float(realtime[realtime.find('m') + 1:\n",
    "                                         realtime.rfind('s')])\n",
    "                realtime = minutes * 60 + seconds\n",
    "                \n",
    "                return realtime"
   ]
  },
  {
   "cell_type": "code",
   "execution_count": 7,
   "metadata": {},
   "outputs": [
    {
     "data": {
      "application/vnd.jupyter.widget-view+json": {
       "model_id": "6504e4737be748b2a61d73454a7b59f6",
       "version_major": 2,
       "version_minor": 0
      },
      "text/plain": [
       "HBox(children=(IntProgress(value=0, description='Files processed', max=125, style=ProgressStyle(description_wi…"
      ]
     },
     "metadata": {},
     "output_type": "display_data"
    },
    {
     "name": "stdout",
     "output_type": "stream",
     "text": [
      "\n"
     ]
    }
   ],
   "source": [
    "pattern_hyperparameters_ssms = re.compile(\n",
    "    '^num_list_(\\d+)-num_probe_(\\d+)(-no_gpu)?.mztab$')\n",
    "pattern_hyperparameters_log = re.compile(\n",
    "    '^num_list_(\\d+)-num_probe_(\\d+)(-no_gpu)?.log$')\n",
    "\n",
    "ssms = []\n",
    "runtimes = []\n",
    "for filename in tqdm.tqdm(os.listdir(hp_dir), 'Files processed',\n",
    "                          unit='files'):\n",
    "    match_ssms = pattern_hyperparameters_ssms.match(filename)\n",
    "    match_log = pattern_hyperparameters_log.match(filename)\n",
    "    if match_ssms is not None:\n",
    "        ssms.append((\n",
    "            int(match_ssms.group(1)), int(match_ssms.group(2)),\n",
    "            len(reader.read_mztab_ssms(os.path.join(hp_dir, filename))),\n",
    "            match_ssms.group(3) is None))\n",
    "    if match_log is not None:\n",
    "        runtimes.append((\n",
    "            int(match_log.group(1)), int(match_log.group(2)),\n",
    "            extract_time_from_log(os.path.join(hp_dir, filename)),\n",
    "            match_log.group(3) is None))\n",
    "\n",
    "ssms_df = pd.DataFrame.from_records(\n",
    "    ssms, columns=['num_list', 'num_probe', 'ssms', 'gpu'])\n",
    "time_df = pd.DataFrame.from_records(\n",
    "    runtimes, columns=['num_list', 'num_probe', 'time', 'gpu'])\n",
    "hyperparameters = pd.merge(ssms_df, time_df,\n",
    "                           on=['num_list', 'num_probe', 'gpu'])\n",
    "hyperparameters['mode'] = 'ANN-SoLo'\n",
    "hyperparameters['precursor_tol_mass'] = 300\n",
    "hyperparameters['precursor_tol_mode'] = 'Da'\n",
    "\n",
    "hyperparameters = hyperparameters.append(\n",
    "    {'mode': 'Brute-force', 'precursor_tol_mass': 20,\n",
    "     'precursor_tol_mode': 'ppm', 'num_list': -1, 'num_probe': -1,\n",
    "     'ssms': len(reader.read_mztab_ssms(\n",
    "         os.path.join(hp_dir, '..', 'brute_force', 'bf_std.mztab'))),\n",
    "     'time': extract_time_from_log(\n",
    "         os.path.join(hp_dir, '..', 'brute_force', 'bf_std.log')),\n",
    "     'gpu': False\n",
    "    }, ignore_index=True)\n",
    "\n",
    "hyperparameters = hyperparameters.append(\n",
    "    {'mode': 'Brute-force', 'precursor_tol_mass': 300,\n",
    "     'precursor_tol_mode': 'Da', 'num_list': -1, 'num_probe': -1,\n",
    "     'ssms': len(reader.read_mztab_ssms(\n",
    "         os.path.join(hp_dir, '..', 'brute_force', 'bf_oms_shifted.mztab'))),\n",
    "     'time': extract_time_from_log(\n",
    "         os.path.join(hp_dir, '..', 'brute_force', 'bf_oms_shifted.log')),\n",
    "     'gpu': False\n",
    "    }, ignore_index=True)\n",
    "\n",
    "hyperparameters = (hyperparameters[\n",
    "    ['mode', 'precursor_tol_mass', 'precursor_tol_mode', 'num_list',\n",
    "     'num_probe', 'ssms', 'time', 'gpu']]\n",
    "    .sort_values(['precursor_tol_mass', 'num_list', 'num_probe', 'gpu'])\n",
    "    .reset_index(drop=True))"
   ]
  },
  {
   "cell_type": "code",
   "execution_count": 8,
   "metadata": {},
   "outputs": [],
   "source": [
    "hyperparameters['time'] = hyperparameters['time'] / 60"
   ]
  },
  {
   "cell_type": "code",
   "execution_count": 9,
   "metadata": {},
   "outputs": [],
   "source": [
    "def get_pareto_frontier(arr):\n",
    "    # Sort by the first column.\n",
    "    arr_sorted = arr[arr[:, 0].argsort()]\n",
    "    # Iteratively add points to the pareto frontier.\n",
    "    pareto_idx = [0]\n",
    "    for i in range(1, arr_sorted.shape[0]):\n",
    "        if (arr_sorted[i, 1] > arr_sorted[pareto_idx[-1], 1] and\n",
    "                arr_sorted[i, 0] - arr_sorted[pareto_idx[-1], 0] > 0.1):\n",
    "            pareto_idx.append(i)\n",
    "    return arr_sorted[pareto_idx]"
   ]
  },
  {
   "cell_type": "code",
   "execution_count": 10,
   "metadata": {},
   "outputs": [],
   "source": [
    "hp_cpu = hyperparameters[(hyperparameters['mode'] == 'ANN-SoLo') &\n",
    "                         ~(hyperparameters['gpu'])]\n",
    "hp_cpu_pareto = get_pareto_frontier(hp_cpu[['time', 'ssms']].values)\n",
    "\n",
    "hp_gpu = hyperparameters[(hyperparameters['mode'] == 'ANN-SoLo') &\n",
    "                         (hyperparameters['gpu'])]\n",
    "hp_gpu_pareto = get_pareto_frontier(hp_gpu[['time', 'ssms']].values)\n",
    "\n",
    "hp_bf = hyperparameters[hyperparameters['mode'] == 'Brute-force']\n",
    "\n",
    "fdr = 0.01"
   ]
  },
  {
   "cell_type": "code",
   "execution_count": 11,
   "metadata": {},
   "outputs": [
    {
     "data": {
      "image/png": "[encoded data removed]",
      "text/plain": [
       "<Figure size 504x311.496 with 1 Axes>"
      ]
     },
     "metadata": {},
     "output_type": "display_data"
    }
   ],
   "source": [
    "width = 7\n",
    "height = width / 1.618    # golden ratio\n",
    "fig, ax = plt.subplots(figsize=(width, height))\n",
    "\n",
    "# ANN-SoLo CPU performance.\n",
    "ax.plot(hp_cpu_pareto[:, 0], hp_cpu_pareto[:, 1], '--o', color='C1',\n",
    "        label='ANN CPU 300 Da')\n",
    "\n",
    "# ANN-SoLo GPU performance.\n",
    "ax.plot(hp_gpu_pareto[:, 0], hp_gpu_pareto[:, 1], '--o', color='C0',\n",
    "        label='ANN GPU 300 Da')\n",
    "\n",
    "# Brute-force closed & open performance.\n",
    "for i, (_, row) in enumerate(hp_bf.iterrows(), 2):\n",
    "    ax.scatter(row['time'], row['ssms'], marker='s', color=f'C{i}',\n",
    "               label=f'{row[\"mode\"]} {row[\"precursor_tol_mass\"]} '\\\n",
    "                     f'{row[\"precursor_tol_mode\"]}')\n",
    "\n",
    "ax.set_xlabel('Total runtime (min)')\n",
    "fdr = 0.01\n",
    "ax.set_ylabel(f'Number of SSMs (FDR={fdr:.0%})')\n",
    "\n",
    "ax.set_xscale('log')\n",
    "\n",
    "ax.legend(loc='lower right', title='Search mode')\n",
    "\n",
    "sns.despine()\n",
    "\n",
    "# plt.savefig('ann_hyperparameters.pdf', dpi=300, bbox_inches='tight')\n",
    "plt.show()\n",
    "plt.close()"
   ]
  },
  {
   "cell_type": "code",
   "execution_count": 12,
   "metadata": {},
   "outputs": [],
   "source": [
    "num_spectra = len(list(reader.read_mgf(mgf_filename)))\n",
    "num_id = (hyperparameters[(hyperparameters['mode'] == 'Brute-force') &\n",
    "                          (hyperparameters['precursor_tol_mass'] == 300)]\n",
    "          ['ssms'].iat[0])"
   ]
  },
  {
   "cell_type": "code",
   "execution_count": 13,
   "metadata": {},
   "outputs": [
    {
     "data": {
      "image/png": "[encoded data removed]",
      "text/plain": [
       "<Figure size 504x311.496 with 1 Axes>"
      ]
     },
     "metadata": {},
     "output_type": "display_data"
    }
   ],
   "source": [
    "width = 7\n",
    "height = width / 1.618    # golden ratio\n",
    "fig, ax = plt.subplots(figsize=(width, height))\n",
    "\n",
    "# ANN-SoLo CPU performance.\n",
    "ax.plot(hp_cpu_pareto[:, 1] / num_id, num_spectra / hp_cpu_pareto[:, 0],\n",
    "        '--o', color='C1', label='ANN CPU 300 Da')\n",
    "\n",
    "# ANN-SoLo GPU performance.\n",
    "ax.plot(hp_gpu_pareto[:, 1] / num_id, num_spectra / hp_gpu_pareto[:, 0],\n",
    "        '--o', color='C0', label='ANN GPU 300 Da')\n",
    "\n",
    "# Brute-force closed & open timing.\n",
    "for i, (_, row) in enumerate(hp_bf.iterrows(), 2):\n",
    "    ax.scatter(row['ssms'] / num_id, num_spectra / row['time'],\n",
    "               marker='s', color=f'C{i}',\n",
    "               label=f'{row[\"mode\"]} {row[\"precursor_tol_mass\"]} '\\\n",
    "                     f'{row[\"precursor_tol_mode\"]}')\n",
    "\n",
    "ax.set_xlabel(f'SSM recall (FDR={fdr:.0%})')\n",
    "ax.set_ylabel('Spectra per minute')\n",
    "\n",
    "ax.set_yscale('log')\n",
    "ax.set_ylim(10, 10000)\n",
    "               \n",
    "ax.xaxis.set_major_formatter(mticker.PercentFormatter(1, 0))\n",
    "\n",
    "ax.legend(loc='lower left', title='Search mode')\n",
    "\n",
    "sns.despine()\n",
    "\n",
    "plt.savefig('ann_hyperparameters.pdf', dpi=300, bbox_inches='tight')\n",
    "plt.show()\n",
    "plt.close()"
   ]
  },
  {
   "cell_type": "code",
   "execution_count": 14,
   "metadata": {},
   "outputs": [],
   "source": [
    "# du -ch --block-size=1M human_yeast_targetdecoy_1* | grep total\n",
    "build_sizes = {64: 3621, 256: 3624, 1024: 3638, 4096: 3677, 16384: 3777}"
   ]
  },
  {
   "cell_type": "code",
   "execution_count": 15,
   "metadata": {},
   "outputs": [
    {
     "data": {
      "application/vnd.jupyter.widget-view+json": {
       "model_id": "f84c8f3ab7a649f798286058ade89c27",
       "version_major": 2,
       "version_minor": 0
      },
      "text/plain": [
       "HBox(children=(IntProgress(value=0, description='Files processed', max=7, style=ProgressStyle(description_widt…"
      ]
     },
     "metadata": {},
     "output_type": "display_data"
    },
    {
     "name": "stdout",
     "output_type": "stream",
     "text": [
      "\n"
     ]
    }
   ],
   "source": [
    "pattern_build_log = re.compile('^num_list_(\\d+).log$')\n",
    "\n",
    "build_runtimes = []\n",
    "for filename in tqdm.tqdm(os.listdir(build_dir), 'Files processed',\n",
    "                          unit='files'):\n",
    "    match_build_log = pattern_build_log.match(filename)\n",
    "    if match_build_log is not None:\n",
    "        num_list = int(match_build_log.group(1))\n",
    "        build_runtimes.append((\n",
    "            num_list,\n",
    "            extract_time_from_log(os.path.join(build_dir, filename)),\n",
    "            build_sizes[num_list]))\n",
    "\n",
    "build_df = pd.DataFrame.from_records(\n",
    "    build_runtimes, columns=['num_list', 'build_time', 'size'])"
   ]
  },
  {
   "cell_type": "code",
   "execution_count": 16,
   "metadata": {},
   "outputs": [],
   "source": [
    "build_df['build_time'] = build_df['build_time'] / 60\n",
    "build_df['size'] = build_df['size'] / 1024\n",
    "hyperparameters = hyperparameters.merge(build_df, how='outer', on='num_list')"
   ]
  },
  {
   "cell_type": "code",
   "execution_count": 17,
   "metadata": {},
   "outputs": [],
   "source": [
    "table_latex = hyperparameters.copy()\n",
    "# use pretty column names\n",
    "table_latex['Search mode'] = (\n",
    "    table_latex['mode'] + ' ' +\n",
    "    table_latex['precursor_tol_mass'].map(str) + ' ' +\n",
    "    table_latex['precursor_tol_mode'])\n",
    "table_latex['num\\_list'] = table_latex['num_list']\n",
    "table_latex['Build time (\\si{\\minute})'] = table_latex['build_time'].map(\n",
    "    '{:,.1f}'.format)\n",
    "table_latex['Index size (\\si{\\giga\\\\byte})'] = table_latex['size'].map(\n",
    "    '{:,.2f}'.format)\n",
    "table_latex['{num\\_probe}'] = table_latex['num_probe']\n",
    "table_latex['GPU'] = table_latex['gpu'].map({True: '{\\\\boxedsymbols ✓}',\n",
    "                                             False: '{\\\\boxedsymbols ✗}'})\n",
    "table_latex['\\#~SSMs'] = table_latex['ssms']\n",
    "table_latex['Search time (\\si{\\minute})'] = table_latex['time'].map(\n",
    "    '{:,.1f}'.format)\n",
    "# Remove duplicated column values for pretty LaTeX output.\n",
    "dup_columns = ['Search mode', 'num\\_list', 'Build time (\\si{\\minute})',\n",
    "               'Index size (\\si{\\giga\\\\byte})']\n",
    "table_latex.loc[table_latex.duplicated(dup_columns), dup_columns] = ''\n",
    "table_latex.loc[[False, True] * (len(table_latex) // 2), '{num\\_probe}'] = ''\n",
    "table_latex.loc[table_latex['Search mode'].str.contains('Brute-force'),\n",
    "                ['num\\_list', '{num\\_probe}', 'Build time (\\si{\\minute})',\n",
    "                 'Index size (\\si{\\giga\\\\byte})', 'GPU']] = ''\n",
    "table_latex = table_latex.drop([\n",
    "    'mode', 'precursor_tol_mass', 'precursor_tol_mode', 'num_list',\n",
    "    'num_probe', 'ssms', 'time', 'build_time', 'size', 'gpu'], axis=1)\n",
    "table_latex.to_latex(\n",
    "    buf='tab-ann_hyperparameters.tex',\n",
    "    index=False,\n",
    "    column_format='@{\\extracolsep{\\\\fill}}lrR{1cm}R{1cm}rrrR{1cm}',\n",
    "    longtable=True, escape=False)"
   ]
  },
  {
   "cell_type": "code",
   "execution_count": 18,
   "metadata": {},
   "outputs": [],
   "source": [
    "logging.shutdown()"
   ]
  }
 ],
 "metadata": {
  "kernelspec": {
   "display_name": "Python 3",
   "language": "python",
   "name": "python3"
  },
  "language_info": {
   "codemirror_mode": {
    "name": "ipython",
    "version": 3
   },
   "file_extension": ".py",
   "mimetype": "text/x-python",
   "name": "python",
   "nbconvert_exporter": "python",
   "pygments_lexer": "ipython3",
   "version": "3.6.8"
  }
 },
 "nbformat": 4,
 "nbformat_minor": 2
}
