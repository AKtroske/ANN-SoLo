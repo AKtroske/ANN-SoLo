{
 "cells": [
  {
   "cell_type": "markdown",
   "metadata": {},
   "source": [
    "# ANN hyperparameter evaluation"
   ]
  },
  {
   "cell_type": "code",
   "execution_count": 1,
   "metadata": {
    "collapsed": true
   },
   "outputs": [],
   "source": [
    "import os\n",
    "import sys\n",
    "\n",
    "src_dir = os.path.abspath('../src')\n",
    "if src_dir not in sys.path:\n",
    "    sys.path.append(src_dir)"
   ]
  },
  {
   "cell_type": "code",
   "execution_count": 2,
   "metadata": {
    "collapsed": true
   },
   "outputs": [],
   "source": [
    "%matplotlib inline\n",
    "\n",
    "import itertools\n",
    "import logging\n",
    "import re\n",
    "\n",
    "import matplotlib.pyplot as plt\n",
    "import numpy as np\n",
    "import pandas as pd\n",
    "import seaborn as sns\n",
    "import tqdm\n",
    "\n",
    "from ann_solo import reader, spectral_library, util\n",
    "from ann_solo.config import config"
   ]
  },
  {
   "cell_type": "code",
   "execution_count": 3,
   "metadata": {
    "collapsed": true
   },
   "outputs": [],
   "source": [
    "tqdm.tqdm = tqdm.tqdm_notebook\n",
    "\n",
    "# plot styling\n",
    "plt.style.use(['seaborn-white', 'seaborn-paper'])\n",
    "plt.rc('font', family='serif')\n",
    "sns.set_palette('Set1')\n",
    "sns.set_context('paper', font_scale=1.3)    # single-column figure\n",
    "\n",
    "# initialize logging\n",
    "logging.basicConfig(format='%(asctime)s [%(levelname)s/%(processName)s] '\n",
    "                           '%(module)s.%(funcName)s : %(message)s',\n",
    "                    level=logging.INFO)"
   ]
  },
  {
   "cell_type": "code",
   "execution_count": 4,
   "metadata": {
    "collapsed": true
   },
   "outputs": [],
   "source": [
    "splib_filename = '../data/processed/iprg2012/human_yeast_targetdecoy.splib'\n",
    "mgf_filename = '../data/external/iPRG2012.mgf'\n",
    "out_dir = '../data/processed/iprg2012'"
   ]
  },
  {
   "cell_type": "markdown",
   "metadata": {},
   "source": [
    "We consider the following hyperparameters for approximate nearest neighbor (ANN) searching:\n",
    "\n",
    "- The number of trees in the ANN index.\n",
    "- The number of nodes in the ANN index to inspect during the search.\n",
    "\n",
    "Both of these hyperparameters provide a trade-off between speed and accuracy, either at build time or at run time.\n",
    "\n",
    "For more information about the hyperparameters, please see the [Annoy](https://github.com/spotify/annoy) library.\n",
    "\n",
    "For each combination of hyperparameters the trade-off between search speed (total time required) and accuracy (number of PSMs at 1% FDR) is evaluated.\n",
    "The number of identifications for a closed search (precursor mass = 20 ppm) and a traditional, brute-force, open modification search are indicated as a reference.\n",
    "\n",
    "Search settings:\n",
    "\n",
    "- Query file: spectra generated for the [iPRG 2012 study](http://www.mcponline.org/cgi/doi/10.1074/mcp.M113.032813).\n",
    "- Precursor mass tolerance: 300 Da\n",
    "- Fragment mass tolerance: 0.25 Da"
   ]
  },
  {
   "cell_type": "code",
   "execution_count": 5,
   "metadata": {
    "collapsed": true
   },
   "outputs": [],
   "source": [
    "# go through all ANN hyperparameter combinations\n",
    "num_trees_options = (100, 500, 1000)\n",
    "search_k_options = (20000, 40000, 100000, 200000, 400000)\n",
    "for num_trees, search_k in itertools.product(num_trees_options, search_k_options):\n",
    "    out_filename = os.path.join(\n",
    "        out_dir, 'ann_hyperparameters', 'num_trees_{}-search_k_{}.mztab'.format(\n",
    "            num_trees, search_k))\n",
    "    if not os.path.isfile(out_filename):\n",
    "        settings = ['--precursor_tolerance_mass 300', '--precursor_tolerance_mode Da',\n",
    "                    '--fragment_mz_tolerance 0.25', '--mode ann']\n",
    "        settings.append('--num_trees {}'.format(num_trees))\n",
    "        settings.append('--search_k {}'.format(search_k))\n",
    "        settings.extend([splib_filename, mgf_filename, out_filename])\n",
    "\n",
    "        config.parse(' '.join(settings))\n",
    "\n",
    "        # execute the search\n",
    "        spec_lib = spectral_library.SpectralLibraryAnnoy(config.spectral_library_filename)\n",
    "        identifications = spec_lib.search(config.query_filename)\n",
    "        with spec_lib._library_reader as lib_reader:\n",
    "            writer.write_mztab(identifications, config.out_filename, lib_reader)\n",
    "        spec_lib.shutdown()"
   ]
  },
  {
   "cell_type": "code",
   "execution_count": 6,
   "metadata": {
    "collapsed": true
   },
   "outputs": [],
   "source": [
    "def extract_time_from_log(filename):\n",
    "    with open(filename, 'r') as f_in:\n",
    "        for line in f_in:\n",
    "            if 'user' in line:\n",
    "                runtime = line.split()[1]\n",
    "                minutes = int(runtime[:runtime.find('m')])\n",
    "                seconds = float(runtime[runtime.find('m') + 1: runtime.rfind('s')])\n",
    "                return minutes * 60 + seconds"
   ]
  },
  {
   "cell_type": "code",
   "execution_count": 7,
   "metadata": {
    "collapsed": true
   },
   "outputs": [],
   "source": [
    "max_fdr = 0.01\n",
    "tol_mass = 0.1\n",
    "tol_mode = 'Da'"
   ]
  },
  {
   "cell_type": "code",
   "execution_count": 8,
   "metadata": {
    "collapsed": true
   },
   "outputs": [],
   "source": [
    "pattern_hyperparameters_psms = re.compile('^num_trees_(\\d+)-search_k_(\\d+).mztab$')\n",
    "pattern_hyperparameters_log = re.compile('^num_trees_(\\d+)-search_k_(\\d+).log$')\n",
    "\n",
    "filename_results = os.path.join(\n",
    "    out_dir, 'ann_hyperparameters', 'ann_hyperparameters.txt')\n",
    "if os.path.isfile(filename_results):\n",
    "    hyperparameters = pd.read_csv(filename_results, sep='\\t')\n",
    "else:\n",
    "    psms = []\n",
    "    runtimes = []\n",
    "    for filename in tqdm.tqdm(\n",
    "            os.listdir(os.path.join(out_dir, 'ann_hyperparameters')),\n",
    "            'Files processed', unit='files'):\n",
    "        match_psms = pattern_hyperparameters_psms.match(filename)\n",
    "        match_log = pattern_hyperparameters_log.match(filename)\n",
    "        if match_psms is not None:\n",
    "            psms.append((\n",
    "                int(match_psms.group(1)), int(match_psms.group(2)),\n",
    "                len(util.filter_group_fdr(\n",
    "                    reader.read_mztab_psms(\n",
    "                        os.path.join(out_dir, 'ann_hyperparameters', filename)),\n",
    "                    max_fdr, tol_mass, tol_mode))))\n",
    "        if match_log is not None:\n",
    "            runtimes.append((\n",
    "                int(match_log.group(1)), int(match_log.group(2)),\n",
    "                extract_time_from_log(\n",
    "                    os.path.join(out_dir, 'ann_hyperparameters', filename))))\n",
    "\n",
    "    psms_df = pd.DataFrame.from_records(\n",
    "        psms, columns=['num_trees', 'search_k', 'psms'])\n",
    "    time_df = pd.DataFrame.from_records(\n",
    "        runtimes, columns=['num_trees', 'search_k', 'time'])\n",
    "    hyperparameters = pd.merge(psms_df, time_df, on=['num_trees', 'search_k'])\n",
    "    hyperparameters['mode'] = 'ANN-SoLo'\n",
    "    hyperparameters['precursor_tol_mass'] = 300\n",
    "    hyperparameters['precursor_tol_mode'] = 'Da'\n",
    "\n",
    "    hyperparameters = hyperparameters.append(\n",
    "        {'mode': 'Brute-force', 'precursor_tol_mass': 20,\n",
    "         'precursor_tol_mode': 'ppm', 'num_trees': -1, 'search_k': -1,\n",
    "         'psms': len(util.filter_fdr(\n",
    "             reader.read_mztab_psms(\n",
    "                 os.path.join(out_dir, 'brute_force', 'bf_closed.mztab')),\n",
    "             max_fdr)),\n",
    "         'time': extract_time_from_log(\n",
    "             os.path.join(out_dir, 'brute_force', 'bf_closed.log'))\n",
    "        }, ignore_index=True)\n",
    "\n",
    "    hyperparameters = hyperparameters.append(\n",
    "        {'mode': 'Brute-force', 'precursor_tol_mass': 300,\n",
    "         'precursor_tol_mode': 'Da', 'num_trees': -1, 'search_k': -1,\n",
    "         'psms': len(util.filter_group_fdr(\n",
    "             reader.read_mztab_psms(\n",
    "                 os.path.join(out_dir, 'brute_force', 'bf_oms_shifted.mztab')),\n",
    "             max_fdr, tol_mass, tol_mode)),\n",
    "         'time': extract_time_from_log(\n",
    "             os.path.join(out_dir, 'brute_force', 'bf_oms_shifted.log'))\n",
    "        }, ignore_index=True)\n",
    "\n",
    "    hyperparameters = hyperparameters[\n",
    "        ['mode', 'precursor_tol_mass', 'precursor_tol_mode', 'num_trees',\n",
    "         'search_k', 'psms', 'time']]\\\n",
    "        .sort_values(['precursor_tol_mass', 'num_trees', 'search_k'])\\\n",
    "        .reset_index(drop=True)\n",
    "\n",
    "    hyperparameters.to_csv(filename_results, sep='\\t', index=False)"
   ]
  },
  {
   "cell_type": "code",
   "execution_count": 9,
   "metadata": {
    "collapsed": true
   },
   "outputs": [],
   "source": [
    "def get_pareto_frontier(arr):\n",
    "    # sort by the first column\n",
    "    arr_sorted = arr[arr[:, 0].argsort()]\n",
    "    # iteratively add points to the pareto frontier\n",
    "    pareto_idx = [0]\n",
    "    for i in range(1, arr_sorted.shape[0]):\n",
    "        # allow 20 seconds difference to avoid near-overlapping points\n",
    "        if arr_sorted[i, 1] > arr_sorted[pareto_idx[-1], 1] and\\\n",
    "                abs(arr_sorted[i, 0] - arr_sorted[pareto_idx[-1], 0]) > 20:\n",
    "            pareto_idx.append(i)\n",
    "    return arr_sorted[pareto_idx]"
   ]
  },
  {
   "cell_type": "code",
   "execution_count": 10,
   "metadata": {},
   "outputs": [
    {
     "data": {
      "image/png": "[encoded data removed]",
      "text/plain": [
       "<Figure size 504x311.496 with 1 Axes>"
      ]
     },
     "metadata": {},
     "output_type": "display_data"
    }
   ],
   "source": [
    "width = 7\n",
    "height = width / 1.618    # golden ratio\n",
    "fig, ax = plt.subplots(figsize=(width, height))\n",
    "\n",
    "hp_ann = hyperparameters[hyperparameters['mode'] == 'ANN-SoLo']\n",
    "hp_bf = hyperparameters[hyperparameters['mode'] == 'Brute-force']\n",
    "\n",
    "# ANN timing\n",
    "hp_ann_pareto = get_pareto_frontier(hp_ann[['time', 'psms']].values)\n",
    "plt.plot(hp_ann_pareto[:, 0], hp_ann_pareto[:, 1], '--o',\n",
    "         label='ANN-SoLo 300 Da')\n",
    "\n",
    "# empty scatter to advance the color cycler\n",
    "plt.scatter([], [])\n",
    "\n",
    "# brute-force closed & open timing\n",
    "for _, row in hp_bf.iterrows():\n",
    "    plt.scatter(row['time'], row['psms'], marker='s',\n",
    "                label='{} {} {}'.format(row['mode'], row['precursor_tol_mass'],\n",
    "                                      row['precursor_tol_mode']))\n",
    "\n",
    "ax.set_xlabel('Total runtime (s)')\n",
    "ax.set_ylabel('Number of SSMs (FDR={})'.format(max_fdr))\n",
    "\n",
    "# ax.set_xscale('log', basex=2)\n",
    "\n",
    "ax.legend(loc='lower right', title='Search mode')\n",
    "\n",
    "sns.despine()\n",
    "\n",
    "plt.savefig('ann_hyperparameters.pdf', dpi=300, bbox_inches='tight')\n",
    "plt.show()\n",
    "plt.close()"
   ]
  },
  {
   "cell_type": "code",
   "execution_count": 11,
   "metadata": {
    "collapsed": true
   },
   "outputs": [],
   "source": [
    "logging.shutdown()"
   ]
  }
 ],
 "metadata": {
  "kernelspec": {
   "display_name": "Python 3",
   "language": "python",
   "name": "python3"
  },
  "language_info": {
   "codemirror_mode": {
    "name": "ipython",
    "version": 3
   },
   "file_extension": ".py",
   "mimetype": "text/x-python",
   "name": "python",
   "nbconvert_exporter": "python",
   "pygments_lexer": "ipython3",
   "version": "3.6.2"
  }
 },
 "nbformat": 4,
 "nbformat_minor": 2
}
