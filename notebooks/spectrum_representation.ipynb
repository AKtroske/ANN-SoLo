{
 "cells": [
  {
   "cell_type": "markdown",
   "metadata": {},
   "source": [
    "# Spectrum represenation"
   ]
  },
  {
   "cell_type": "code",
   "execution_count": 1,
   "metadata": {
    "collapsed": true
   },
   "outputs": [],
   "source": [
    "import os\n",
    "import sys\n",
    "\n",
    "src_dir = os.path.abspath('../src')\n",
    "if src_dir not in sys.path:\n",
    "    sys.path.append(src_dir)"
   ]
  },
  {
   "cell_type": "code",
   "execution_count": 2,
   "metadata": {
    "collapsed": true
   },
   "outputs": [],
   "source": [
    "%matplotlib inline\n",
    "\n",
    "import itertools\n",
    "import logging\n",
    "import re\n",
    "\n",
    "import matplotlib.pyplot as plt\n",
    "import numpy as np\n",
    "import pandas as pd\n",
    "import seaborn as sns\n",
    "import tqdm\n",
    "\n",
    "from ann_solo import reader, spectral_library, util, writer\n",
    "from ann_solo.config import config"
   ]
  },
  {
   "cell_type": "code",
   "execution_count": 3,
   "metadata": {
    "collapsed": true
   },
   "outputs": [],
   "source": [
    "tqdm.tqdm = tqdm.tqdm_notebook\n",
    "\n",
    "# plot styling\n",
    "plt.style.use(['seaborn-white', 'seaborn-paper'])\n",
    "plt.rc('font', family='serif')\n",
    "sns.set_palette('Set1')\n",
    "\n",
    "# initialize logging\n",
    "logging.basicConfig(format='%(asctime)s [%(levelname)s/%(processName)s] '\n",
    "                           '%(module)s.%(funcName)s : %(message)s',\n",
    "                    level=logging.INFO)"
   ]
  },
  {
   "cell_type": "code",
   "execution_count": 4,
   "metadata": {
    "collapsed": true
   },
   "outputs": [],
   "source": [
    "spql_filename = '../data/processed/iprg2012/human_yeast_targetdecoy.splib'\n",
    "mgf_filename = '../data/external/iPRG2012.mgf'\n",
    "out_dir = '../data/processed/iprg2012/spectrum_representation'"
   ]
  },
  {
   "cell_type": "markdown",
   "metadata": {},
   "source": [
    "We consider the following options for the representation of MS2 spectra:\n",
    "\n",
    "- The number of peaks: ranging from 25 to 150 in steps of 25.\n",
    "- The intensity scaling: either square root scaling or rank scaling.\n",
    "\n",
    "These representation options are evaluated based on the identification performance in terms of the number of PSMs at a 1% FDR.\n",
    "\n",
    "Search settings:\n",
    "\n",
    "- Query file: spectra generated for the [iPRG 2012 study](http://www.mcponline.org/cgi/doi/10.1074/mcp.M113.032813).\n",
    "- Precursor mass tolerance: 20 ppm\n",
    "- Fragment mass tolerance: 0.25 Da"
   ]
  },
  {
   "cell_type": "code",
   "execution_count": 5,
   "metadata": {
    "collapsed": true
   },
   "outputs": [],
   "source": [
    "# go through all combinations of number of peaks and scaling methods\n",
    "num_peaks_options = np.arange(25, 151, 25)\n",
    "scaling_options = ('sqrt', 'rank')\n",
    "for num_peaks, scaling in itertools.product(num_peaks_options, scaling_options):\n",
    "    out_filename = os.path.join(out_dir, 'num_peaks_{}-scaling_{}.mztab'.format(num_peaks, scaling))\n",
    "    if not os.path.isfile(out_filename):\n",
    "        settings = ['--remove_precursor', '--remove_precursor_tolerance 0.25',\n",
    "                    '--precursor_tolerance_mass 20', '--precursor_tolerance_mode ppm',\n",
    "                    '--fragment_mz_tolerance 0.25', '--mode bf']\n",
    "        settings.append('--max_peaks_used {}'.format(num_peaks))\n",
    "        settings.append('--scaling {}'.format(scaling))\n",
    "        settings.extend([spql_filename, mgf_filename, out_filename])\n",
    "\n",
    "        config.parse(' '.join(settings))\n",
    "\n",
    "        # execute the search\n",
    "        spec_lib = spectral_library.SpectralLibraryBf(config.spectral_library_filename)\n",
    "        identifications = spec_lib.search(config.query_filename)\n",
    "        with spec_lib._library_reader as lib_reader:\n",
    "            writer.write_mztab(identifications, config.out_filename, lib_reader)\n",
    "        spec_lib.shutdown()"
   ]
  },
  {
   "cell_type": "code",
   "execution_count": 6,
   "metadata": {
    "collapsed": true
   },
   "outputs": [],
   "source": [
    "max_fdr = 0.01\n",
    "\n",
    "pattern_numpeaks_scaling = re.compile('^num_peaks_(\\d+)-scaling_(rank|sqrt).mztab$')\n",
    "\n",
    "psms = {'num_peaks': [], 'scaling': [], 'psms': []}\n",
    "for filename in os.listdir(out_dir):\n",
    "    match = pattern_numpeaks_scaling.match(filename)\n",
    "    if match is not None:\n",
    "        psms['num_peaks'].append(int(match.group(1)))\n",
    "        psms['scaling'].append(match.group(2))\n",
    "        psms['psms'].append(len(\n",
    "            util.filter_fdr(reader.read_mztab_psms(os.path.join(out_dir, filename)),\n",
    "                            max_fdr)))\n",
    "\n",
    "psms = pd.DataFrame(psms)"
   ]
  },
  {
   "cell_type": "code",
   "execution_count": 7,
   "metadata": {},
   "outputs": [
    {
     "data": {
      "image/png": "[encoded data removed]",
      "text/plain": [
       "<Figure size 504x311.496 with 1 Axes>"
      ]
     },
     "metadata": {},
     "output_type": "display_data"
    }
   ],
   "source": [
    "width = 7\n",
    "height = width / 1.618    # golden ratio\n",
    "fig, ax = plt.subplots(figsize=(width, height))\n",
    "\n",
    "sns.barplot(x='num_peaks', y='psms', hue='scaling', data=psms, ax=ax)\n",
    "\n",
    "# add numeric values above bars\n",
    "# for p in ax.patches:\n",
    "#     height = p.get_height()\n",
    "#     ax.text(p.get_x() + p.get_width() / 2, height + 10,\n",
    "#             '{:.0f}'.format(p.get_height()), ha='center') \n",
    "\n",
    "ax.set_xlabel('Number of peaks')\n",
    "ax.set_ylabel('Number of SSMs (FDR={})'.format(max_fdr))\n",
    "ax.set_ylim((2600, 3700))\n",
    "legend = ax.legend(loc='upper right', title='Scaling')\n",
    "\n",
    "sns.despine()\n",
    "\n",
    "plt.savefig('preprocess.pdf', dpi=300, bbox_inches='tight')\n",
    "plt.show()\n",
    "plt.close()"
   ]
  },
  {
   "cell_type": "markdown",
   "metadata": {},
   "source": [
    "We can see that the maximum number of identifications (at 1% FDR) is achieved when using the 50 most intense peaks and scaling the intensities by their rank. This correspond to previously reported results by [Shao et al. (2013)](http://onlinelibrary.wiley.com/doi/10.1002/pmic.201300232/abstract)."
   ]
  },
  {
   "cell_type": "code",
   "execution_count": 8,
   "metadata": {
    "collapsed": true
   },
   "outputs": [],
   "source": [
    "logging.shutdown()"
   ]
  }
 ],
 "metadata": {
  "kernelspec": {
   "display_name": "Python 3",
   "language": "python",
   "name": "python3"
  },
  "language_info": {
   "codemirror_mode": {
    "name": "ipython",
    "version": 3
   },
   "file_extension": ".py",
   "mimetype": "text/x-python",
   "name": "python",
   "nbconvert_exporter": "python",
   "pygments_lexer": "ipython3",
   "version": "3.6.2"
  }
 },
 "nbformat": 4,
 "nbformat_minor": 2
}
