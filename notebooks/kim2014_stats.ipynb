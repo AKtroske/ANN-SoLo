{
 "cells": [
  {
   "cell_type": "markdown",
   "metadata": {},
   "source": [
    "# Kim2014 identification statistics"
   ]
  },
  {
   "cell_type": "code",
   "execution_count": 1,
   "metadata": {},
   "outputs": [],
   "source": [
    "import os\n",
    "import sys\n",
    "\n",
    "src_dir = os.path.abspath('../src')\n",
    "if src_dir not in sys.path:\n",
    "    sys.path.append(src_dir)"
   ]
  },
  {
   "cell_type": "code",
   "execution_count": 2,
   "metadata": {},
   "outputs": [],
   "source": [
    "%matplotlib inline\n",
    "import functools\n",
    "\n",
    "import matplotlib.pyplot as plt\n",
    "import matplotlib.ticker as mticker\n",
    "import numpy as np\n",
    "import pandas as pd\n",
    "import seaborn as sns\n",
    "import tqdm\n",
    "\n",
    "from ann_solo import reader, spectrum, utils"
   ]
  },
  {
   "cell_type": "code",
   "execution_count": 3,
   "metadata": {},
   "outputs": [],
   "source": [
    "# plot styling\n",
    "plt.style.use(['seaborn-white', 'seaborn-paper'])\n",
    "plt.rc('font', family='serif')\n",
    "sns.set_palette('Set1')\n",
    "sns.set_context('paper', font_scale=1.)    # single-column figure"
   ]
  },
  {
   "cell_type": "code",
   "execution_count": 4,
   "metadata": {},
   "outputs": [],
   "source": [
    "tqdm.tqdm = tqdm.tqdm_notebook"
   ]
  },
  {
   "cell_type": "code",
   "execution_count": 5,
   "metadata": {},
   "outputs": [],
   "source": [
    "def extract_time_from_log(filename):\n",
    "    with open(filename, 'r') as f_in:\n",
    "        for line in f_in:\n",
    "            if line.startswith('real'):\n",
    "                # Wall clock time.\n",
    "                realtime = line.split()[1]\n",
    "                minutes = int(realtime[:realtime.find('m')])\n",
    "                seconds = float(realtime[realtime.find('m') + 1:\n",
    "                                         realtime.rfind('s')])\n",
    "                realtime = minutes * 60 + seconds\n",
    "                \n",
    "                return realtime"
   ]
  },
  {
   "cell_type": "code",
   "execution_count": 6,
   "metadata": {},
   "outputs": [],
   "source": [
    "max_fdr = 0.01\n",
    "tol_mass = 0.1\n",
    "tol_mode = 'Da'\n",
    "min_group_size = 20"
   ]
  },
  {
   "cell_type": "code",
   "execution_count": 7,
   "metadata": {},
   "outputs": [],
   "source": [
    "id_dir = '../../data/processed/kim2014/gpu'"
   ]
  },
  {
   "cell_type": "code",
   "execution_count": 8,
   "metadata": {},
   "outputs": [
    {
     "data": {
      "application/vnd.jupyter.widget-view+json": {
       "model_id": "edd2317207c14fb6b28a0950df419121",
       "version_major": 2,
       "version_minor": 0
      },
      "text/plain": [
       "HBox(children=(IntProgress(value=0, description='Files processed', max=4207, style=ProgressStyle(description_w…"
      ]
     },
     "metadata": {},
     "output_type": "display_data"
    },
    {
     "name": "stdout",
     "output_type": "stream",
     "text": [
      "\n"
     ]
    }
   ],
   "source": [
    "ssms = []\n",
    "num_ssms, num_peptides, runtimes = [], [], []\n",
    "for filename in tqdm.tqdm(os.listdir(id_dir), desc='Files processed',\n",
    "                          unit='files'):\n",
    "    filename_full = os.path.join(id_dir, filename)\n",
    "    filename_base, ext = os.path.splitext(filename)\n",
    "    if ext == '.log':\n",
    "        runtimes.append((os.path.splitext(filename)[0],\n",
    "                         extract_time_from_log(filename_full)))\n",
    "    elif ext == '.mztab':\n",
    "        file_ssms = reader.read_mztab_ssms(filename_full)\n",
    "        ssms.append(file_ssms)\n",
    "        file_peptides = (file_ssms['sequence'].str.replace(r'n?\\[\\d+\\]', '')\n",
    "                         .unique())\n",
    "        num_ssms.append((filename_base, len(file_ssms)))\n",
    "        num_peptides.append((filename_base, len(file_peptides)))\n",
    "        \n",
    "ssms = pd.concat(ssms, ignore_index=True)\n",
    "\n",
    "num_ssms_df = pd.DataFrame.from_records(num_ssms,\n",
    "                                        columns=['filename', 'ssms'])\n",
    "num_peptides_df = pd.DataFrame.from_records(num_peptides,\n",
    "                                            columns=['filename', 'peptides'])\n",
    "time_df = pd.DataFrame.from_records(runtimes, columns=['filename', 'time'])\n",
    "\n",
    "stats = functools.reduce(\n",
    "    lambda left, right: pd.merge(left, right, on='filename'),\n",
    "    [num_ssms_df, num_peptides_df, time_df])\n",
    "stats = stats.sort_values('filename').reset_index(drop=True)"
   ]
  },
  {
   "cell_type": "code",
   "execution_count": 9,
   "metadata": {},
   "outputs": [
    {
     "name": "stdout",
     "output_type": "stream",
     "text": [
      "Number of identified spectra: 14,032,494\n",
      "Total search time: 281 h (11.7 days)\n",
      "Search time per file: 8.0 ± 3.1 min\n"
     ]
    }
   ],
   "source": [
    "print(f'Number of identified spectra: {stats[\"ssms\"].sum():,.0f}\\n'\n",
    "      f'Total search time: {stats[\"time\"].sum() / 3600:.0f} h '\n",
    "      f'({stats[\"time\"].sum() / 86400:.1f} days)\\n'\n",
    "      f'Search time per file: {stats[\"time\"].mean() / 60:,.1f} '\n",
    "      f'± {stats[\"time\"].std() / 60:,.1f} min')"
   ]
  },
  {
   "cell_type": "code",
   "execution_count": 10,
   "metadata": {},
   "outputs": [],
   "source": [
    "num_ssm_unmod = num_ssm_total = 0\n",
    "for filename in os.listdir(id_dir):\n",
    "    filename_full = os.path.join(id_dir, filename)\n",
    "    filename_base, ext = os.path.splitext(filename)\n",
    "    if ext == '.log':\n",
    "        with open(filename_full, 'r') as f_in:\n",
    "            for line in f_in:\n",
    "                if line.endswith('spectra identified after the standard search\\n'):\n",
    "                    start = line.find(' : ') + 3\n",
    "                    end = line.find(' ', start)\n",
    "                    num_ssm_unmod += int(line[start:end])\n",
    "                if line.endswith('spectra identified after the open search\\n'):\n",
    "                    start = line.find(' : ') + 3\n",
    "                    end = line.find(' ', start)\n",
    "                    num_ssm_total += int(line[start:end])\n",
    "num_ssm_mod = num_ssm_total - num_ssm_unmod"
   ]
  },
  {
   "cell_type": "code",
   "execution_count": 11,
   "metadata": {},
   "outputs": [
    {
     "name": "stdout",
     "output_type": "stream",
     "text": [
      "Total number of identified spectra: 14,032,494\n",
      "Number of unmodified identified spectra: 9,760,497\n",
      "Number of modified identified spectra: 4,271,997\n",
      "\n"
     ]
    }
   ],
   "source": [
    "print(f'Total number of identified spectra: {num_ssm_total:,.0f}\\n'\n",
    "      f'Number of unmodified identified spectra: {num_ssm_unmod:,.0f}\\n'\n",
    "      f'Number of modified identified spectra: {num_ssm_mod:,.0f}\\n')"
   ]
  },
  {
   "cell_type": "code",
   "execution_count": 12,
   "metadata": {},
   "outputs": [],
   "source": [
    "def get_mass_groups(ssms, tol_mass, tol_mode):\n",
    "    ssms_remaining = ssms.sort_values('search_engine_score[1]',\n",
    "                                      ascending=False)\n",
    "    ssms_remaining['mass_diff'] = ((ssms_remaining['exp_mass_to_charge'] -\n",
    "                                    ssms_remaining['calc_mass_to_charge']) *\n",
    "                                   ssms_remaining['charge'])\n",
    "\n",
    "    # Start with the highest ranked SSM.\n",
    "    mass_groups = []\n",
    "    while ssms_remaining.size > 0:\n",
    "        # Find all remaining PSMs within the mass difference window.\n",
    "        mass_diff = ssms_remaining['mass_diff'].iloc[0]\n",
    "        if (tol_mass is None or tol_mode not in ('Da', 'ppm') or\n",
    "                min_group_size is None):\n",
    "            mask = np.full(len(ssms_remaining), True, dtype=bool)\n",
    "        elif tol_mode == 'Da':\n",
    "            mask = (np.fabs(ssms_remaining['mass_diff'] - mass_diff) <=\n",
    "                    tol_mass)\n",
    "        elif tol_mode == 'ppm':\n",
    "            mask = (np.fabs(ssms_remaining['mass_diff'] - mass_diffs) /\n",
    "                    ssms_remaining['exp_mass_to_charge'] * 10 ** 6\n",
    "                    <= tol_mass)\n",
    "        mass_groups.append(ssms_remaining[mask])\n",
    "        # Exclude the selected SSMs from further selections.\n",
    "        ssms_remaining = ssms_remaining[~mask]\n",
    "\n",
    "    mass_group_stats = []\n",
    "    for mass_group in mass_groups:\n",
    "        mass_group_stats.append((mass_group['mass_diff'].median(),\n",
    "                                 mass_group['mass_diff'].mean(),\n",
    "                                 len(mass_group)))\n",
    "    mass_group_stats = pd.DataFrame.from_records(\n",
    "        mass_group_stats, columns=['mass_diff_median', 'mass_diff_mean',\n",
    "                                   'num_ssms'])\n",
    "    return mass_group_stats"
   ]
  },
  {
   "cell_type": "code",
   "execution_count": 13,
   "metadata": {},
   "outputs": [],
   "source": [
    "mass_groups = get_mass_groups(ssms, tol_mass, tol_mode)"
   ]
  },
  {
   "cell_type": "code",
   "execution_count": 14,
   "metadata": {},
   "outputs": [
    {
     "data": {
      "text/html": [
       "<div>\n",
       "<style scoped>\n",
       "    .dataframe tbody tr th:only-of-type {\n",
       "        vertical-align: middle;\n",
       "    }\n",
       "\n",
       "    .dataframe tbody tr th {\n",
       "        vertical-align: top;\n",
       "    }\n",
       "\n",
       "    .dataframe thead th {\n",
       "        text-align: right;\n",
       "    }\n",
       "</style>\n",
       "<table border=\"1\" class=\"dataframe\">\n",
       "  <thead>\n",
       "    <tr style=\"text-align: right;\">\n",
       "      <th></th>\n",
       "      <th>mass_diff_median</th>\n",
       "      <th>mass_diff_mean</th>\n",
       "      <th>num_ssms</th>\n",
       "    </tr>\n",
       "  </thead>\n",
       "  <tbody>\n",
       "    <tr>\n",
       "      <th>0</th>\n",
       "      <td>0.000646</td>\n",
       "      <td>0.001236</td>\n",
       "      <td>9882777</td>\n",
       "    </tr>\n",
       "    <tr>\n",
       "      <th>8</th>\n",
       "      <td>57.022315</td>\n",
       "      <td>57.022839</td>\n",
       "      <td>308387</td>\n",
       "    </tr>\n",
       "    <tr>\n",
       "      <th>21</th>\n",
       "      <td>27.995986</td>\n",
       "      <td>27.998766</td>\n",
       "      <td>246428</td>\n",
       "    </tr>\n",
       "    <tr>\n",
       "      <th>16</th>\n",
       "      <td>0.993853</td>\n",
       "      <td>0.987444</td>\n",
       "      <td>219006</td>\n",
       "    </tr>\n",
       "    <tr>\n",
       "      <th>11</th>\n",
       "      <td>15.995468</td>\n",
       "      <td>15.996442</td>\n",
       "      <td>211927</td>\n",
       "    </tr>\n",
       "    <tr>\n",
       "      <th>5</th>\n",
       "      <td>-0.986346</td>\n",
       "      <td>-0.999017</td>\n",
       "      <td>163269</td>\n",
       "    </tr>\n",
       "    <tr>\n",
       "      <th>7</th>\n",
       "      <td>14.015814</td>\n",
       "      <td>14.013037</td>\n",
       "      <td>133020</td>\n",
       "    </tr>\n",
       "    <tr>\n",
       "      <th>76</th>\n",
       "      <td>-17.025133</td>\n",
       "      <td>-17.019578</td>\n",
       "      <td>129687</td>\n",
       "    </tr>\n",
       "    <tr>\n",
       "      <th>54</th>\n",
       "      <td>-18.009568</td>\n",
       "      <td>-18.006636</td>\n",
       "      <td>111075</td>\n",
       "    </tr>\n",
       "    <tr>\n",
       "      <th>4</th>\n",
       "      <td>1.988133</td>\n",
       "      <td>1.989208</td>\n",
       "      <td>99286</td>\n",
       "    </tr>\n",
       "  </tbody>\n",
       "</table>\n",
       "</div>"
      ],
      "text/plain": [
       "    mass_diff_median  mass_diff_mean  num_ssms\n",
       "0           0.000646        0.001236   9882777\n",
       "8          57.022315       57.022839    308387\n",
       "21         27.995986       27.998766    246428\n",
       "16          0.993853        0.987444    219006\n",
       "11         15.995468       15.996442    211927\n",
       "5          -0.986346       -0.999017    163269\n",
       "7          14.015814       14.013037    133020\n",
       "76        -17.025133      -17.019578    129687\n",
       "54        -18.009568      -18.006636    111075\n",
       "4           1.988133        1.989208     99286"
      ]
     },
     "execution_count": 14,
     "metadata": {},
     "output_type": "execute_result"
    }
   ],
   "source": [
    "mass_groups.sort_values('num_ssms', ascending=False).head(10)"
   ]
  },
  {
   "cell_type": "code",
   "execution_count": 15,
   "metadata": {},
   "outputs": [
    {
     "data": {
      "image/png": "[encoded data removed]",
      "text/plain": [
       "<Figure size 756x207.664 with 1 Axes>"
      ]
     },
     "metadata": {},
     "output_type": "display_data"
    }
   ],
   "source": [
    "width = 7\n",
    "height = width / 1.618\n",
    "fig, ax = plt.subplots(figsize=(width * 1.5, height / 1.5))\n",
    "\n",
    "# Exclude unmodified SSMs.\n",
    "mask = mass_groups['mass_diff_median'].abs() > tol_mass\n",
    "ax.bar(mass_groups[mask]['mass_diff_median'], mass_groups[mask]['num_ssms'],\n",
    "       width=0.4, log=False, color='black')\n",
    "\n",
    "ax.set_xlim((-50, 100))\n",
    "\n",
    "# Format y-axis numbers.\n",
    "ax.yaxis.set_major_formatter(mticker.StrMethodFormatter('{x:,g}'))\n",
    "\n",
    "sns.despine(ax=ax)\n",
    "    \n",
    "# Set tick labels at nice positions.\n",
    "ax.xaxis.set_major_locator(mticker.MultipleLocator(50))\n",
    "ax.set_xlabel('Precursor mass difference (Da)')\n",
    "ax.set_ylabel(f'Number of SSMs\\n(FDR={max_fdr})')\n",
    "\n",
    "plt.savefig('mass_diff.pdf', dpi=300, bbox_inches='tight')\n",
    "plt.show()\n",
    "plt.close()"
   ]
  }
 ],
 "metadata": {
  "kernelspec": {
   "display_name": "Python 3",
   "language": "python",
   "name": "python3"
  },
  "language_info": {
   "codemirror_mode": {
    "name": "ipython",
    "version": 3
   },
   "file_extension": ".py",
   "mimetype": "text/x-python",
   "name": "python",
   "nbconvert_exporter": "python",
   "pygments_lexer": "ipython3",
   "version": "3.6.8"
  }
 },
 "nbformat": 4,
 "nbformat_minor": 2
}
