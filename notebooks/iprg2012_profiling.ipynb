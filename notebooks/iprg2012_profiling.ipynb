{
 "cells": [
  {
   "cell_type": "markdown",
   "metadata": {},
   "source": [
    "# ANN-SoLo profiling"
   ]
  },
  {
   "cell_type": "code",
   "execution_count": 1,
   "metadata": {
    "collapsed": true
   },
   "outputs": [],
   "source": [
    "%matplotlib inline\n",
    "import io\n",
    "import os\n",
    "import pstats\n",
    "\n",
    "import matplotlib.pyplot as plt\n",
    "import matplotlib.ticker as mticker\n",
    "import seaborn as sns\n",
    "import pandas as pd"
   ]
  },
  {
   "cell_type": "code",
   "execution_count": 2,
   "metadata": {
    "collapsed": true
   },
   "outputs": [],
   "source": [
    "# plot styling\n",
    "plt.style.use(['seaborn-white', 'seaborn-paper'])\n",
    "plt.rc('font', family='serif')\n",
    "sns.set_palette('Set1')\n",
    "sns.set_context('paper', font_scale=1.3)    # single-column figure"
   ]
  },
  {
   "cell_type": "code",
   "execution_count": 3,
   "metadata": {
    "collapsed": true
   },
   "outputs": [],
   "source": [
    "prof_dir = '../data/processed/iprg2012/profiling'"
   ]
  },
  {
   "cell_type": "code",
   "execution_count": 4,
   "metadata": {
    "collapsed": true
   },
   "outputs": [],
   "source": [
    "def extract_cum_time(stats, stream, func):\n",
    "    stats.print_stats(func)\n",
    "    stream.seek(0)\n",
    "    return float(stream.read().strip().split('\\n')[-1].split()[3])\n",
    "\n",
    "def process_prof(filename):\n",
    "    stream = io.StringIO()\n",
    "    stats = pstats.Stats(filename, stream=stream)\n",
    "\n",
    "    mode = 'Brute-force' if 'bf' in filename else 'ANN-SoLo'\n",
    "    precursor_tol_mass = 20 if 'std' in filename else 300\n",
    "    precursor_tol_mode = 'ppm' if 'std' in filename else 'Da'\n",
    "    prof = {'mode': mode,\n",
    "            'precursor_tol_mass': precursor_tol_mass,\n",
    "            'precursor_tol_mode': precursor_tol_mode,\n",
    "            'libio': extract_cum_time(stats, stream, 'get_spectrum'),\n",
    "            'rank': extract_cum_time(stats, stream, 'get_best_match')}\n",
    "    total = extract_cum_time(stats, stream, 'builtins.exec')\n",
    "    prof['select'] = extract_cum_time(stats, stream, '_filter_library_candidates') - prof['libio']\n",
    "    prof['other'] = total - prof['select'] - prof['rank'] - prof['libio']\n",
    "    \n",
    "    return prof"
   ]
  },
  {
   "cell_type": "code",
   "execution_count": 5,
   "metadata": {
    "collapsed": true
   },
   "outputs": [],
   "source": [
    "profiling = []\n",
    "for filename in ['bf_std.prof', 'bf_oms_shifted.prof', 'ann_oms_shifted.prof']:\n",
    "    profiling.append(process_prof(os.path.join(prof_dir, filename)))\n",
    "\n",
    "profiling = pd.DataFrame(profiling)"
   ]
  },
  {
   "cell_type": "code",
   "execution_count": 6,
   "metadata": {
    "collapsed": true
   },
   "outputs": [],
   "source": [
    "profiling_bar = profiling[['select', 'rank', 'libio', 'other']]\n",
    "# convert to relative time percentages\n",
    "profiling_bar = profiling_bar.div(profiling_bar.sum(axis=1), axis=0) * 100\n",
    "profiling_bar.columns = ['Candidate selection', 'Candidate ranking',\n",
    "                         'I/O', 'Other']"
   ]
  },
  {
   "cell_type": "code",
   "execution_count": 7,
   "metadata": {},
   "outputs": [
    {
     "data": {
      "image/png": "[encoded data removed]",
      "text/plain": [
       "<matplotlib.figure.Figure at 0x115223470>"
      ]
     },
     "metadata": {},
     "output_type": "display_data"
    }
   ],
   "source": [
    "width = 7\n",
    "height = width / 1.618    # golden ratio\n",
    "fig, ax = plt.subplots(figsize=(width, height))\n",
    "\n",
    "profiling_bar.plot.bar(ax=ax, stacked=True)\n",
    "\n",
    "ax.set_ylabel('Relative time consumption')\n",
    "\n",
    "xtick_labels = (profiling['mode'].map(str) + '\\n' +\n",
    "                profiling['precursor_tol_mass'].map(str) + ' ' +\n",
    "                profiling['precursor_tol_mode'].map(str))\n",
    "ax.set_xticklabels(xtick_labels, rotation='horizontal')\n",
    "\n",
    "ax.yaxis.set_major_formatter(mticker.PercentFormatter())\n",
    "\n",
    "ax.legend(loc='upper center', bbox_to_anchor=(0.5, 1.15), ncol=2)\n",
    "\n",
    "sns.despine()\n",
    "\n",
    "plt.savefig('profiling.pdf', dpi=300, bbox_inches='tight')\n",
    "plt.show()\n",
    "plt.close()"
   ]
  }
 ],
 "metadata": {
  "kernelspec": {
   "display_name": "Python 3",
   "language": "python",
   "name": "python3"
  },
  "language_info": {
   "codemirror_mode": {
    "name": "ipython",
    "version": 3
   },
   "file_extension": ".py",
   "mimetype": "text/x-python",
   "name": "python",
   "nbconvert_exporter": "python",
   "pygments_lexer": "ipython3",
   "version": "3.6.2"
  }
 },
 "nbformat": 4,
 "nbformat_minor": 2
}
