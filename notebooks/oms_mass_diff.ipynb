{
 "cells": [
  {
   "cell_type": "markdown",
   "metadata": {},
   "source": [
    "# Open modification searching: Precursor mass differences"
   ]
  },
  {
   "cell_type": "code",
   "execution_count": 1,
   "metadata": {
    "collapsed": true
   },
   "outputs": [],
   "source": [
    "import os\n",
    "import sys\n",
    "\n",
    "src_dir = os.path.abspath('../src')\n",
    "if src_dir not in sys.path:\n",
    "    sys.path.append(src_dir)"
   ]
  },
  {
   "cell_type": "code",
   "execution_count": 2,
   "metadata": {
    "collapsed": true
   },
   "outputs": [],
   "source": [
    "%matplotlib inline\n",
    "\n",
    "import matplotlib.pyplot as plt\n",
    "import matplotlib.ticker as mticker\n",
    "import numpy as np\n",
    "import seaborn as sns\n",
    "import sklearn.cluster\n",
    "\n",
    "import reader\n",
    "import util"
   ]
  },
  {
   "cell_type": "code",
   "execution_count": 3,
   "metadata": {
    "collapsed": true
   },
   "outputs": [],
   "source": [
    "sns.set_style('whitegrid')"
   ]
  },
  {
   "cell_type": "code",
   "execution_count": 4,
   "metadata": {
    "collapsed": true
   },
   "outputs": [],
   "source": [
    "max_fdr = 0.01\n",
    "bandwidth = 0.05\n",
    "min_cluster_size = 5"
   ]
  },
  {
   "cell_type": "code",
   "execution_count": 5,
   "metadata": {},
   "outputs": [],
   "source": [
    "filename = '../data/processed/iprg2012/bf_oms.mztab'\n",
    "psms = util.filter_group_fdr(reader.read_mztab_psms(filename), max_fdr, bandwidth)"
   ]
  },
  {
   "cell_type": "code",
   "execution_count": 6,
   "metadata": {},
   "outputs": [],
   "source": [
    "# find mass difference clusters\n",
    "psms['mass_diff'] = (\n",
    "    (psms['exp_mass_to_charge'] - psms['calc_mass_to_charge']) * psms['charge']\n",
    ")\n",
    "mean_shift = sklearn.cluster.MeanShift(bandwidth,\n",
    "                                       min_bin_freq=min_cluster_size,\n",
    "                                       cluster_all=False, n_jobs=-1)\n",
    "clusters = mean_shift.fit_predict(psms['mass_diff'].values.reshape(-1, 1))\n",
    "# discard clusters with too few elements\n",
    "labels, sizes = np.unique(clusters, return_counts=True)\n",
    "small_cluster_labels = labels[np.where(sizes < min_cluster_size)[0]]\n",
    "clusters[np.isin(clusters, small_cluster_labels)] = -1\n",
    "# count the number of PSMs in each cluster\n",
    "psm_clusters = psms.groupby(clusters)['mass_diff'].agg(['median', 'size'])"
   ]
  },
  {
   "cell_type": "code",
   "execution_count": 7,
   "metadata": {},
   "outputs": [
    {
     "data": {
      "image/png": "[encoded data removed]",
      "text/plain": [
       "<matplotlib.figure.Figure at 0x101e34a90>"
      ]
     },
     "metadata": {},
     "output_type": "display_data"
    }
   ],
   "source": [
    "fig, ax = plt.subplots(figsize=(10, 6), facecolor='white')\n",
    "\n",
    "ax.bar(psm_clusters['median'].values, psm_clusters['size'].values,\n",
    "       width=1, log=True)\n",
    "\n",
    "ax.set_xlabel('Precursor mass difference (Da)')\n",
    "ax.set_ylabel('Number of PSMs (FDR={})'.format(max_fdr))\n",
    "\n",
    "# set tick labels at nice positions\n",
    "ax.xaxis.set_major_locator(mticker.MultipleLocator(50))\n",
    "\n",
    "# plt.savefig('mass_diff.pdf', dpi=300, bbox_inches='tight')\n",
    "plt.show()\n",
    "plt.close()"
   ]
  }
 ],
 "metadata": {
  "kernelspec": {
   "display_name": "Python 3",
   "language": "python",
   "name": "python3"
  },
  "language_info": {
   "codemirror_mode": {
    "name": "ipython",
    "version": 3
   },
   "file_extension": ".py",
   "mimetype": "text/x-python",
   "name": "python",
   "nbconvert_exporter": "python",
   "pygments_lexer": "ipython3",
   "version": "3.6.2"
  }
 },
 "nbformat": 4,
 "nbformat_minor": 2
}
